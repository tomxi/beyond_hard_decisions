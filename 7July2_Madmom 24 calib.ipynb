{
 "cells": [
  {
   "cell_type": "code",
   "execution_count": 1,
   "id": "arranged-cabinet",
   "metadata": {},
   "outputs": [],
   "source": [
    "%load_ext autoreload\n",
    "%autoreload 2"
   ]
  },
  {
   "cell_type": "markdown",
   "id": "amended-sunglasses",
   "metadata": {},
   "source": [
    "## Pick out the right tracks for Key test Set"
   ]
  },
  {
   "cell_type": "code",
   "execution_count": 2,
   "id": "written-passion",
   "metadata": {},
   "outputs": [],
   "source": [
    "import util as ut\n",
    "import numpy as np\n",
    "import os\n",
    "import jams\n",
    "import librosa\n",
    "import matplotlib.pyplot as plt\n",
    "import madmom\n",
    "import mirdata"
   ]
  },
  {
   "cell_type": "code",
   "execution_count": 3,
   "id": "thrown-equivalent",
   "metadata": {},
   "outputs": [],
   "source": [
    "gskey = mirdata.initialize('giantsteps_key', data_home='/scratch/qx244/data/gskey')"
   ]
  },
  {
   "cell_type": "code",
   "execution_count": 4,
   "id": "presidential-surname",
   "metadata": {},
   "outputs": [],
   "source": [
    "gs_ids = gskey.track_ids\n",
    "gs_data = gskey.load_tracks()"
   ]
  },
  {
   "cell_type": "code",
   "execution_count": 5,
   "id": "fresh-relevance",
   "metadata": {},
   "outputs": [
    {
     "name": "stdout",
     "output_type": "stream",
     "text": [
      "476\n"
     ]
    }
   ],
   "source": [
    "good_files = {}\n",
    "\n",
    "for i in range(len(gs_ids)):\n",
    "    sample_track = gs_data[gs_ids[i]]\n",
    "    key_list = sample_track.key.split('|')\n",
    "    tonic_list = [k.strip().split(' ')[0] for k in key_list]\n",
    "#     print(i, tonic_list, key_list)\n",
    "    if len(tonic_list) > 1:\n",
    "        # this means modulation\n",
    "#         print(i, tonic_list, key_list)\n",
    "        pass\n",
    "    elif tonic_list[0] == 'X' or tonic_list[0].endswith(('^', '_')):\n",
    "#         print(i, tonic_list, key_list)\n",
    "        pass\n",
    "    else:\n",
    "        keymode = key_list[0].split(' ')[:2]\n",
    "        if keymode[1] == 'major' or keymode[1] == 'minor':\n",
    "            good_files[gs_ids[i]] = ':'.join(keymode)\n",
    "#             print(gs_ids[i], keymode)\n",
    "        else:\n",
    "#             print(gs_ids[i], keymode)\n",
    "            pass\n",
    "        \n",
    "print(len(good_files))"
   ]
  },
  {
   "cell_type": "code",
   "execution_count": 19,
   "id": "clean-infection",
   "metadata": {},
   "outputs": [
    {
     "data": {
      "text/plain": [
       "{'1': 'C:minor',\n",
       " '2': 'F:minor',\n",
       " '3': 'D:major',\n",
       " '4': 'E:minor',\n",
       " '5': 'E:minor',\n",
       " '6': 'E:major',\n",
       " '8': 'F:minor',\n",
       " '9': 'Gb:minor',\n",
       " '10': 'G:major',\n",
       " '11': 'Ab:major',\n",
       " '13': 'G:minor',\n",
       " '14': 'A:minor',\n",
       " '15': 'A:minor',\n",
       " '16': 'F:minor',\n",
       " '18': 'Bb:minor',\n",
       " '19': 'C:minor',\n",
       " '20': 'G:minor',\n",
       " '21': 'Gb:minor',\n",
       " '22': 'C:major',\n",
       " '23': 'G:minor',\n",
       " '24': 'C:major',\n",
       " '25': 'G:minor',\n",
       " '27': 'D:minor',\n",
       " '28': 'D:minor',\n",
       " '29': 'E:minor',\n",
       " '30': 'Bb:major',\n",
       " '31': 'G:major',\n",
       " '32': 'G:minor',\n",
       " '33': 'G:minor',\n",
       " '34': 'F:minor',\n",
       " '35': 'Bb:major',\n",
       " '38': 'Bb:major',\n",
       " '39': 'B:minor',\n",
       " '41': 'F:minor',\n",
       " '42': 'F:minor',\n",
       " '43': 'D:minor',\n",
       " '44': 'Eb:minor',\n",
       " '45': 'F:major',\n",
       " '46': 'C:minor',\n",
       " '47': 'B:minor',\n",
       " '48': 'C:minor',\n",
       " '49': 'E:major',\n",
       " '50': 'B:minor',\n",
       " '51': 'Ab:major',\n",
       " '52': 'A:minor',\n",
       " '53': 'Eb:minor',\n",
       " '54': 'Db:minor',\n",
       " '55': 'F:major',\n",
       " '56': 'G:minor',\n",
       " '57': 'A:minor',\n",
       " '58': 'Ab:minor',\n",
       " '59': 'Gb:minor',\n",
       " '60': 'C:minor',\n",
       " '62': 'Ab:major',\n",
       " '64': 'E:major',\n",
       " '65': 'D:major',\n",
       " '66': 'Gb:minor',\n",
       " '68': 'C:major',\n",
       " '70': 'C:minor',\n",
       " '71': 'D:minor',\n",
       " '72': 'A:minor',\n",
       " '75': 'E:minor',\n",
       " '77': 'C:minor',\n",
       " '78': 'G:minor',\n",
       " '80': 'C:minor',\n",
       " '82': 'Gb:minor',\n",
       " '83': 'B:minor',\n",
       " '84': 'C:minor',\n",
       " '85': 'G:major',\n",
       " '86': 'Eb:minor',\n",
       " '87': 'C:minor',\n",
       " '88': 'B:minor',\n",
       " '90': 'A:major',\n",
       " '91': 'E:minor',\n",
       " '92': 'Bb:minor',\n",
       " '93': 'D:minor',\n",
       " '94': 'B:minor',\n",
       " '95': 'A:minor',\n",
       " '96': 'Bb:minor',\n",
       " '97': 'Db:minor',\n",
       " '99': 'A:minor',\n",
       " '100': 'D:minor',\n",
       " '101': 'Eb:minor',\n",
       " '102': 'Eb:minor',\n",
       " '104': 'Eb:minor',\n",
       " '105': 'C:major',\n",
       " '107': 'E:minor',\n",
       " '108': 'Bb:minor',\n",
       " '109': 'C:minor',\n",
       " '110': 'Bb:minor',\n",
       " '112': 'D:minor',\n",
       " '113': 'A:minor',\n",
       " '115': 'Gb:minor',\n",
       " '116': 'F:minor',\n",
       " '118': 'A:minor',\n",
       " '119': 'B:minor',\n",
       " '121': 'Ab:minor',\n",
       " '122': 'Eb:minor',\n",
       " '123': 'C:minor',\n",
       " '124': 'G:major',\n",
       " '125': 'C:minor',\n",
       " '127': 'E:minor',\n",
       " '128': 'A:minor',\n",
       " '129': 'A:minor',\n",
       " '131': 'Bb:minor',\n",
       " '132': 'D:minor',\n",
       " '133': 'C:minor',\n",
       " '134': 'G:minor',\n",
       " '135': 'F:minor',\n",
       " '136': 'E:minor',\n",
       " '138': 'B:minor',\n",
       " '139': 'C:major',\n",
       " '140': 'G:minor',\n",
       " '141': 'F:minor',\n",
       " '142': 'F:minor',\n",
       " '143': 'A:minor',\n",
       " '144': 'G:minor',\n",
       " '145': 'E:minor',\n",
       " '147': 'A:minor',\n",
       " '149': 'C:minor',\n",
       " '150': 'A:minor',\n",
       " '152': 'Bb:minor',\n",
       " '153': 'A:minor',\n",
       " '155': 'F:minor',\n",
       " '157': 'Db:minor',\n",
       " '158': 'B:minor',\n",
       " '159': 'Bb:minor',\n",
       " '160': 'Eb:minor',\n",
       " '161': 'C:minor',\n",
       " '162': 'D:minor',\n",
       " '163': 'C:minor',\n",
       " '164': 'A:minor',\n",
       " '168': 'G:minor',\n",
       " '170': 'A:minor',\n",
       " '172': 'E:minor',\n",
       " '175': 'E:minor',\n",
       " '176': 'F:minor',\n",
       " '177': 'E:minor',\n",
       " '178': 'C:minor',\n",
       " '179': 'C:minor',\n",
       " '180': 'C:major',\n",
       " '181': 'D:minor',\n",
       " '182': 'A:minor',\n",
       " '184': 'G:minor',\n",
       " '186': 'G:minor',\n",
       " '188': 'Ab:minor',\n",
       " '189': 'A:minor',\n",
       " '191': 'F:minor',\n",
       " '192': 'E:minor',\n",
       " '193': 'B:minor',\n",
       " '195': 'F:minor',\n",
       " '196': 'F:minor',\n",
       " '197': 'C:minor',\n",
       " '198': 'F:minor',\n",
       " '199': 'B:minor',\n",
       " '200': 'Ab:minor',\n",
       " '204': 'G:minor',\n",
       " '205': 'Bb:minor',\n",
       " '206': 'F:minor',\n",
       " '207': 'F:minor',\n",
       " '209': 'Ab:minor',\n",
       " '210': 'C:minor',\n",
       " '211': 'G:major',\n",
       " '212': 'A:minor',\n",
       " '213': 'B:minor',\n",
       " '214': 'D:minor',\n",
       " '215': 'F:minor',\n",
       " '216': 'A:minor',\n",
       " '217': 'F:minor',\n",
       " '218': 'C:minor',\n",
       " '219': 'B:minor',\n",
       " '220': 'B:minor',\n",
       " '221': 'Db:minor',\n",
       " '223': 'G:minor',\n",
       " '225': 'E:minor',\n",
       " '226': 'Ab:minor',\n",
       " '228': 'Db:minor',\n",
       " '229': 'G:minor',\n",
       " '230': 'G:major',\n",
       " '232': 'D:minor',\n",
       " '233': 'F:minor',\n",
       " '234': 'Eb:minor',\n",
       " '235': 'Bb:minor',\n",
       " '236': 'A:minor',\n",
       " '237': 'G:minor',\n",
       " '239': 'E:minor',\n",
       " '240': 'D:minor',\n",
       " '244': 'Eb:major',\n",
       " '245': 'E:minor',\n",
       " '246': 'Bb:minor',\n",
       " '248': 'Bb:major',\n",
       " '249': 'A:major',\n",
       " '250': 'A:minor',\n",
       " '252': 'C:minor',\n",
       " '253': 'Gb:minor',\n",
       " '254': 'D:minor',\n",
       " '256': 'Gb:major',\n",
       " '257': 'F:minor',\n",
       " '258': 'D:minor',\n",
       " '259': 'Eb:major',\n",
       " '260': 'G:minor',\n",
       " '261': 'E:minor',\n",
       " '262': 'G:major',\n",
       " '264': 'D:minor',\n",
       " '265': 'Eb:minor',\n",
       " '266': 'C:minor',\n",
       " '268': 'A:minor',\n",
       " '269': 'Bb:minor',\n",
       " '270': 'C:minor',\n",
       " '271': 'Bb:minor',\n",
       " '272': 'Eb:minor',\n",
       " '273': 'Eb:minor',\n",
       " '274': 'Gb:minor',\n",
       " '275': 'G:minor',\n",
       " '278': 'Eb:major',\n",
       " '279': 'B:minor',\n",
       " '280': 'Ab:minor',\n",
       " '281': 'A:minor',\n",
       " '282': 'Gb:minor',\n",
       " '283': 'D:minor',\n",
       " '284': 'B:major',\n",
       " '285': 'B:minor',\n",
       " '286': 'G:minor',\n",
       " '287': 'Bb:minor',\n",
       " '288': 'F:minor',\n",
       " '289': 'F:minor',\n",
       " '290': 'G:minor',\n",
       " '291': 'Ab:major',\n",
       " '292': 'B:minor',\n",
       " '293': 'A:minor',\n",
       " '294': 'Db:minor',\n",
       " '295': 'F:minor',\n",
       " '296': 'E:minor',\n",
       " '297': 'E:minor',\n",
       " '298': 'C:minor',\n",
       " '299': 'Gb:minor',\n",
       " '300': 'Ab:minor',\n",
       " '301': 'G:minor',\n",
       " '302': 'E:minor',\n",
       " '303': 'G:minor',\n",
       " '304': 'G:minor',\n",
       " '305': 'G:minor',\n",
       " '306': 'E:minor',\n",
       " '307': 'Db:minor',\n",
       " '311': 'E:minor',\n",
       " '312': 'Eb:minor',\n",
       " '313': 'Ab:minor',\n",
       " '314': 'B:minor',\n",
       " '315': 'A:minor',\n",
       " '316': 'Ab:minor',\n",
       " '317': 'G:minor',\n",
       " '318': 'E:minor',\n",
       " '319': 'C:major',\n",
       " '320': 'D:minor',\n",
       " '321': 'Ab:minor',\n",
       " '323': 'Ab:minor',\n",
       " '325': 'E:major',\n",
       " '326': 'Eb:minor',\n",
       " '327': 'Bb:minor',\n",
       " '329': 'Ab:major',\n",
       " '330': 'F:major',\n",
       " '332': 'B:minor',\n",
       " '333': 'F:minor',\n",
       " '334': 'G:minor',\n",
       " '335': 'D:minor',\n",
       " '336': 'D:minor',\n",
       " '338': 'B:minor',\n",
       " '339': 'Bb:minor',\n",
       " '340': 'E:minor',\n",
       " '341': 'Db:minor',\n",
       " '342': 'G:minor',\n",
       " '343': 'Ab:minor',\n",
       " '345': 'Bb:minor',\n",
       " '346': 'Db:major',\n",
       " '347': 'F:minor',\n",
       " '348': 'C:minor',\n",
       " '349': 'A:minor',\n",
       " '350': 'B:minor',\n",
       " '351': 'C:minor',\n",
       " '353': 'D:major',\n",
       " '355': 'D:minor',\n",
       " '356': 'E:minor',\n",
       " '357': 'E:minor',\n",
       " '358': 'G:minor',\n",
       " '359': 'A:minor',\n",
       " '360': 'A:minor',\n",
       " '362': 'C:major',\n",
       " '364': 'G:minor',\n",
       " '365': 'Eb:major',\n",
       " '366': 'E:minor',\n",
       " '367': 'Gb:minor',\n",
       " '368': 'E:minor',\n",
       " '369': 'F:minor',\n",
       " '370': 'D:minor',\n",
       " '371': 'Eb:minor',\n",
       " '372': 'F:minor',\n",
       " '374': 'A:major',\n",
       " '376': 'C:minor',\n",
       " '377': 'F:minor',\n",
       " '380': 'C:minor',\n",
       " '381': 'C:minor',\n",
       " '382': 'G:minor',\n",
       " '383': 'F:minor',\n",
       " '384': 'Db:minor',\n",
       " '387': 'Eb:minor',\n",
       " '389': 'C:minor',\n",
       " '391': 'G:minor',\n",
       " '392': 'C:major',\n",
       " '393': 'A:minor',\n",
       " '394': 'Eb:minor',\n",
       " '395': 'C:minor',\n",
       " '397': 'F:minor',\n",
       " '398': 'Db:minor',\n",
       " '399': 'F:minor',\n",
       " '400': 'A:minor',\n",
       " '401': 'A:minor',\n",
       " '402': 'E:minor',\n",
       " '403': 'F:minor',\n",
       " '404': 'C:major',\n",
       " '407': 'E:minor',\n",
       " '408': 'Gb:minor',\n",
       " '409': 'A:minor',\n",
       " '410': 'D:minor',\n",
       " '411': 'Eb:minor',\n",
       " '412': 'D:minor',\n",
       " '414': 'C:minor',\n",
       " '415': 'C:minor',\n",
       " '416': 'Eb:minor',\n",
       " '417': 'D:major',\n",
       " '418': 'F:minor',\n",
       " '419': 'A:minor',\n",
       " '420': 'A:minor',\n",
       " '421': 'E:minor',\n",
       " '422': 'E:minor',\n",
       " '423': 'F:minor',\n",
       " '424': 'C:minor',\n",
       " '425': 'D:major',\n",
       " '426': 'E:minor',\n",
       " '429': 'E:major',\n",
       " '430': 'F:minor',\n",
       " '431': 'F:minor',\n",
       " '432': 'C:minor',\n",
       " '433': 'Eb:minor',\n",
       " '434': 'Eb:minor',\n",
       " '435': 'D:minor',\n",
       " '437': 'Ab:minor',\n",
       " '438': 'Bb:minor',\n",
       " '439': 'Ab:minor',\n",
       " '440': 'E:minor',\n",
       " '443': 'G:minor',\n",
       " '444': 'Eb:minor',\n",
       " '445': 'Ab:minor',\n",
       " '446': 'F:minor',\n",
       " '447': 'D:minor',\n",
       " '448': 'Gb:major',\n",
       " '449': 'B:minor',\n",
       " '450': 'Bb:minor',\n",
       " '451': 'Gb:minor',\n",
       " '452': 'E:minor',\n",
       " '453': 'F:minor',\n",
       " '454': 'A:minor',\n",
       " '455': 'Ab:minor',\n",
       " '456': 'Gb:minor',\n",
       " '457': 'G:minor',\n",
       " '458': 'F:minor',\n",
       " '460': 'A:minor',\n",
       " '461': 'Ab:major',\n",
       " '462': 'D:major',\n",
       " '463': 'F:minor',\n",
       " '464': 'D:minor',\n",
       " '465': 'Eb:minor',\n",
       " '466': 'G:minor',\n",
       " '467': 'F:minor',\n",
       " '469': 'C:minor',\n",
       " '470': 'E:minor',\n",
       " '471': 'C:minor',\n",
       " '473': 'F:minor',\n",
       " '476': 'D:minor',\n",
       " '478': 'G:minor',\n",
       " '479': 'B:minor',\n",
       " '480': 'Ab:minor',\n",
       " '481': 'Bb:minor',\n",
       " '482': 'F:minor',\n",
       " '483': 'F:minor',\n",
       " '484': 'Gb:minor',\n",
       " '485': 'F:minor',\n",
       " '488': 'Gb:minor',\n",
       " '489': 'F:minor',\n",
       " '490': 'Db:minor',\n",
       " '491': 'G:minor',\n",
       " '492': 'F:minor',\n",
       " '494': 'Eb:minor',\n",
       " '496': 'A:minor',\n",
       " '498': 'F:minor',\n",
       " '499': 'Bb:minor',\n",
       " '500': 'F:minor',\n",
       " '501': 'F:minor',\n",
       " '502': 'F:minor',\n",
       " '503': 'E:minor',\n",
       " '504': 'C:minor',\n",
       " '505': 'Bb:minor',\n",
       " '507': 'Eb:minor',\n",
       " '508': 'D:minor',\n",
       " '509': 'Bb:minor',\n",
       " '510': 'G:major',\n",
       " '511': 'G:minor',\n",
       " '512': 'B:minor',\n",
       " '513': 'F:minor',\n",
       " '514': 'Gb:minor',\n",
       " '515': 'Bb:minor',\n",
       " '516': 'D:minor',\n",
       " '517': 'G:minor',\n",
       " '519': 'Gb:minor',\n",
       " '520': 'C:major',\n",
       " '521': 'F:minor',\n",
       " '522': 'A:minor',\n",
       " '523': 'Ab:minor',\n",
       " '524': 'Db:minor',\n",
       " '525': 'G:minor',\n",
       " '526': 'Bb:minor',\n",
       " '527': 'E:minor',\n",
       " '528': 'G:minor',\n",
       " '529': 'F:minor',\n",
       " '530': 'Gb:minor',\n",
       " '531': 'E:minor',\n",
       " '532': 'D:major',\n",
       " '533': 'Db:minor',\n",
       " '534': 'G:minor',\n",
       " '535': 'A:minor',\n",
       " '536': 'G:minor',\n",
       " '537': 'Ab:minor',\n",
       " '538': 'F:minor',\n",
       " '539': 'B:major',\n",
       " '541': 'Ab:minor',\n",
       " '544': 'E:minor',\n",
       " '545': 'F:minor',\n",
       " '546': 'A:minor',\n",
       " '547': 'Ab:major',\n",
       " '548': 'G:minor',\n",
       " '549': 'E:minor',\n",
       " '550': 'C:minor',\n",
       " '551': 'C:minor',\n",
       " '552': 'F:minor',\n",
       " '554': 'A:minor',\n",
       " '555': 'Ab:minor',\n",
       " '556': 'C:minor',\n",
       " '557': 'E:minor',\n",
       " '558': 'F:minor',\n",
       " '559': 'C:minor',\n",
       " '561': 'F:minor',\n",
       " '562': 'G:minor',\n",
       " '563': 'C:minor',\n",
       " '564': 'E:minor',\n",
       " '565': 'D:minor',\n",
       " '566': 'A:minor',\n",
       " '567': 'Gb:major',\n",
       " '570': 'C:minor',\n",
       " '571': 'B:major',\n",
       " '573': 'Gb:minor',\n",
       " '575': 'C:major',\n",
       " '576': 'Db:minor',\n",
       " '578': 'A:major',\n",
       " '579': 'Bb:minor',\n",
       " '580': 'D:minor',\n",
       " '583': 'A:minor',\n",
       " '584': 'E:minor',\n",
       " '585': 'E:minor',\n",
       " '586': 'Eb:major',\n",
       " '587': 'F:minor',\n",
       " '588': 'E:minor',\n",
       " '589': 'D:major',\n",
       " '590': 'B:minor',\n",
       " '592': 'G:minor',\n",
       " '593': 'Bb:minor',\n",
       " '594': 'Eb:minor',\n",
       " '595': 'F:minor'}"
      ]
     },
     "execution_count": 19,
     "metadata": {},
     "output_type": "execute_result"
    }
   ],
   "source": [
    "good_files"
   ]
  },
  {
   "cell_type": "markdown",
   "id": "spare-interaction",
   "metadata": {},
   "source": [
    "## Pack the pred_all and label_all matrix"
   ]
  },
  {
   "cell_type": "code",
   "execution_count": 23,
   "id": "activated-amazon",
   "metadata": {},
   "outputs": [
    {
     "data": {
      "text/plain": [
       "Track(\n",
       "  audio_path=\"/scratch/qx244/data/gskey/audio/1004923 Kaiserdisco - Carachillo (Original Mix).mp3\",\n",
       "  keys_path=\"/scratch/qx244/data/gskey/keys_gs+/1004923 Kaiserdisco - Carachillo (Original Mix).txt\",\n",
       "  metadata_path=\"/scratch/qx244/data/gskey/meta/1004923 Kaiserdisco - Carachillo (Original Mix).json\",\n",
       "  title=\"1004923 Kaiserdisco - Carachillo (Original Mix)\",\n",
       "  track_id=\"1\",\n",
       "  artists: ,\n",
       "  audio: The track's audio\n",
       "\n",
       "        Returns,\n",
       "  genres: ,\n",
       "  key: ,\n",
       "  tempo: ,\n",
       ")"
      ]
     },
     "execution_count": 23,
     "metadata": {},
     "output_type": "execute_result"
    }
   ],
   "source": [
    "gs_data['1']"
   ]
  },
  {
   "cell_type": "code",
   "execution_count": 6,
   "id": "particular-technical",
   "metadata": {},
   "outputs": [
    {
     "name": "stdout",
     "output_type": "stream",
     "text": [
      "476\n"
     ]
    }
   ],
   "source": [
    "p = '/scratch/qx244/data/gskey/augmentation/'\n",
    "id_label = {}\n",
    "\n",
    "for i in good_files.keys():\n",
    "    id_label[gs_data[i].title.split(' ')[0]] = good_files[i]\n",
    "    \n",
    "print(len(id_label))"
   ]
  },
  {
   "cell_type": "code",
   "execution_count": 41,
   "id": "hindu-writing",
   "metadata": {},
   "outputs": [
    {
     "data": {
      "text/plain": [
       "{'1004923': 'C:minor',\n",
       " '1007941': 'F:minor',\n",
       " '10089': 'D:major',\n",
       " '1009960': 'E:minor',\n",
       " '101069': 'E:minor',\n",
       " '1017921': 'E:major',\n",
       " '1033148': 'F:minor',\n",
       " '1034795': 'Gb:minor',\n",
       " '1037507': 'G:major',\n",
       " '1041574': 'Ab:major',\n",
       " '1052744': 'G:minor',\n",
       " '1056896': 'A:minor',\n",
       " '1074548': 'A:minor',\n",
       " '1075123': 'F:minor',\n",
       " '1103512': 'Bb:minor',\n",
       " '1105632': 'C:minor',\n",
       " '1140027': 'G:minor',\n",
       " '1149778': 'Gb:minor',\n",
       " '1161234': 'C:major',\n",
       " '1161249': 'G:minor',\n",
       " '1164898': 'C:major',\n",
       " '1178656': 'G:minor',\n",
       " '1194720': 'D:minor',\n",
       " '1198688': 'D:minor',\n",
       " '1206025': 'E:minor',\n",
       " '1209745': 'Bb:major',\n",
       " '1224698': 'G:major',\n",
       " '1234668': 'G:minor',\n",
       " '1234669': 'G:minor',\n",
       " '1234670': 'F:minor',\n",
       " '1234748': 'Bb:major',\n",
       " '1234751': 'Bb:major',\n",
       " '1234752': 'B:minor',\n",
       " '1298595': 'F:minor',\n",
       " '1316308': 'F:minor',\n",
       " '1353830': 'D:minor',\n",
       " '1356281': 'Eb:minor',\n",
       " '1389887': 'F:major',\n",
       " '140603': 'C:minor',\n",
       " '1406309': 'B:minor',\n",
       " '1415239': 'C:minor',\n",
       " '1442809': 'E:major',\n",
       " '1468437': 'B:minor',\n",
       " '1474122': 'Ab:major',\n",
       " '1486770': 'A:minor',\n",
       " '1494159': 'Eb:minor',\n",
       " '1549964': 'Db:minor',\n",
       " '1568217': 'F:major',\n",
       " '1574723': 'G:minor',\n",
       " '1575015': 'A:minor',\n",
       " '1611446': 'Ab:minor',\n",
       " '1614715': 'Gb:minor',\n",
       " '1626779': 'C:minor',\n",
       " '1650934': 'Ab:major',\n",
       " '1669939': 'E:major',\n",
       " '1673811': 'D:major',\n",
       " '1678455': 'Gb:minor',\n",
       " '1681077': 'C:major',\n",
       " '1682815': 'C:minor',\n",
       " '1690921': 'D:minor',\n",
       " '1695408': 'A:minor',\n",
       " '1757071': 'E:minor',\n",
       " '1771576': 'C:minor',\n",
       " '1771577': 'G:minor',\n",
       " '1781139': 'C:minor',\n",
       " '1787061': 'Gb:minor',\n",
       " '1792026': 'B:minor',\n",
       " '1792100': 'C:minor',\n",
       " '1792506': 'G:major',\n",
       " '1795653': 'Eb:minor',\n",
       " '1796518': 'C:minor',\n",
       " '1803909': 'B:minor',\n",
       " '1809174': 'A:major',\n",
       " '1814469': 'E:minor',\n",
       " '1822087': 'Bb:minor',\n",
       " '1822502': 'D:minor',\n",
       " '1837440': 'B:minor',\n",
       " '1850984': 'A:minor',\n",
       " '1856889': 'Bb:minor',\n",
       " '1864037': 'Db:minor',\n",
       " '1904501': 'A:minor',\n",
       " '190477': 'D:minor',\n",
       " '191347': 'Eb:minor',\n",
       " '1922470': 'Eb:minor',\n",
       " '1939732': 'Eb:minor',\n",
       " '1944125': 'C:major',\n",
       " '1949099': 'E:minor',\n",
       " '1950170': 'Bb:minor',\n",
       " '1960032': 'C:minor',\n",
       " '1964905': 'Bb:minor',\n",
       " '1978917': 'D:minor',\n",
       " '1981501': 'A:minor',\n",
       " '1983975': 'Gb:minor',\n",
       " '1984204': 'F:minor',\n",
       " '1990297': 'A:minor',\n",
       " '1991458': 'B:minor',\n",
       " '2007977': 'Ab:minor',\n",
       " '2014445': 'Eb:minor',\n",
       " '2018991': 'C:minor',\n",
       " '2024026': 'G:major',\n",
       " '2025670': 'C:minor',\n",
       " '2029598': 'E:minor',\n",
       " '2031094': 'A:minor',\n",
       " '2031096': 'A:minor',\n",
       " '2046342': 'Bb:minor',\n",
       " '2047796': 'D:minor',\n",
       " '2048054': 'C:minor',\n",
       " '2048940': 'G:minor',\n",
       " '2049680': 'F:minor',\n",
       " '2051166': 'E:minor',\n",
       " '2053495': 'B:minor',\n",
       " '2054968': 'C:major',\n",
       " '205597': 'G:minor',\n",
       " '2059625': 'F:minor',\n",
       " '2069519': 'F:minor',\n",
       " '2070773': 'A:minor',\n",
       " '2075331': 'G:minor',\n",
       " '208158': 'E:minor',\n",
       " '209206': 'A:minor',\n",
       " '2435861': 'C:minor',\n",
       " '2436276': 'A:minor',\n",
       " '2438899': 'Bb:minor',\n",
       " '2440193': 'A:minor',\n",
       " '2448121': 'F:minor',\n",
       " '2666528': 'Db:minor',\n",
       " '2667501': 'B:minor',\n",
       " '2673157': 'Bb:minor',\n",
       " '2673251': 'Eb:minor',\n",
       " '2673252': 'C:minor',\n",
       " '2673254': 'D:minor',\n",
       " '2676506': 'C:minor',\n",
       " '2680040': 'A:minor',\n",
       " '2725290': 'G:minor',\n",
       " '2741219': 'A:minor',\n",
       " '2996293': 'E:minor',\n",
       " '3014118': 'E:minor',\n",
       " '3015217': 'F:minor',\n",
       " '3024384': 'E:minor',\n",
       " '3033991': 'C:minor',\n",
       " '305771': 'C:minor',\n",
       " '3069201': 'C:major',\n",
       " '3070298': 'D:minor',\n",
       " '3076768': 'A:minor',\n",
       " '3095708': 'G:minor',\n",
       " '3116329': 'G:minor',\n",
       " '3133794': 'Ab:minor',\n",
       " '3137686': 'A:minor',\n",
       " '3151513': 'F:minor',\n",
       " '3165770': 'E:minor',\n",
       " '3172588': 'B:minor',\n",
       " '3178155': 'F:minor',\n",
       " '3186615': 'F:minor',\n",
       " '3211603': 'C:minor',\n",
       " '3211733': 'F:minor',\n",
       " '3228297': 'B:minor',\n",
       " '3228649': 'Ab:minor',\n",
       " '3233653': 'G:minor',\n",
       " '3246151': 'Bb:minor',\n",
       " '3249708': 'F:minor',\n",
       " '3250632': 'F:minor',\n",
       " '3260121': 'Ab:minor',\n",
       " '3262951': 'C:minor',\n",
       " '3270413': 'G:major',\n",
       " '3271514': 'A:minor',\n",
       " '3272873': 'B:minor',\n",
       " '3274260': 'D:minor',\n",
       " '3275147': 'F:minor',\n",
       " '3288636': 'A:minor',\n",
       " '3298344': 'F:minor',\n",
       " '3302298': 'C:minor',\n",
       " '3302451': 'B:minor',\n",
       " '3313070': 'B:minor',\n",
       " '3313145': 'Db:minor',\n",
       " '3317417': 'G:minor',\n",
       " '3319589': 'E:minor',\n",
       " '3324024': 'Ab:minor',\n",
       " '3334471': 'Db:minor',\n",
       " '3338963': 'G:minor',\n",
       " '3339291': 'G:major',\n",
       " '3345479': 'D:minor',\n",
       " '3349486': 'F:minor',\n",
       " '3349967': 'Eb:minor',\n",
       " '3354212': 'Bb:minor',\n",
       " '3356535': 'A:minor',\n",
       " '3361547': 'G:minor',\n",
       " '3363196': 'E:minor',\n",
       " '3363602': 'D:minor',\n",
       " '3367555': 'Eb:major',\n",
       " '3368117': 'E:minor',\n",
       " '3372108': 'Bb:minor',\n",
       " '3379400': 'Bb:major',\n",
       " '3383171': 'A:major',\n",
       " '3387619': 'A:minor',\n",
       " '3390952': 'C:minor',\n",
       " '3395666': 'Gb:minor',\n",
       " '3397932': 'D:minor',\n",
       " '3402886': 'Gb:major',\n",
       " '3402887': 'F:minor',\n",
       " '3402888': 'D:minor',\n",
       " '3409548': 'Eb:major',\n",
       " '3415063': 'G:minor',\n",
       " '3415421': 'E:minor',\n",
       " '341832': 'G:major',\n",
       " '3426022': 'D:minor',\n",
       " '3426285': 'Eb:minor',\n",
       " '3428673': 'C:minor',\n",
       " '3434746': 'A:minor',\n",
       " '3443052': 'Bb:minor',\n",
       " '3450181': 'C:minor',\n",
       " '3467773': 'Bb:minor',\n",
       " '3478184': 'Eb:minor',\n",
       " '3479363': 'Eb:minor',\n",
       " '3480108': 'Gb:minor',\n",
       " '3482733': 'G:minor',\n",
       " '3518768': 'Eb:major',\n",
       " '3518921': 'B:minor',\n",
       " '3519499': 'Ab:minor',\n",
       " '3523229': 'A:minor',\n",
       " '3524408': 'Gb:minor',\n",
       " '3526370': 'D:minor',\n",
       " '3533310': 'B:major',\n",
       " '3533740': 'B:minor',\n",
       " '3533956': 'G:minor',\n",
       " '3535112': 'Bb:minor',\n",
       " '3542099': 'F:minor',\n",
       " '3545728': 'F:minor',\n",
       " '3561744': 'G:minor',\n",
       " '3568438': 'Ab:major',\n",
       " '3568459': 'B:minor',\n",
       " '3568465': 'A:minor',\n",
       " '3571314': 'Db:minor',\n",
       " '3572701': 'F:minor',\n",
       " '3572702': 'E:minor',\n",
       " '3574815': 'E:minor',\n",
       " '3589347': 'C:minor',\n",
       " '3590070': 'Gb:minor',\n",
       " '3596904': 'Ab:minor',\n",
       " '3602280': 'G:minor',\n",
       " '3602282': 'E:minor',\n",
       " '3625299': 'G:minor',\n",
       " '3625787': 'G:minor',\n",
       " '3625788': 'G:minor',\n",
       " '3628628': 'E:minor',\n",
       " '3629467': 'Db:minor',\n",
       " '3641166': 'E:minor',\n",
       " '3642384': 'Eb:minor',\n",
       " '3642409': 'Ab:minor',\n",
       " '3648814': 'B:minor',\n",
       " '3661550': 'A:minor',\n",
       " '3667215': 'Ab:minor',\n",
       " '3667683': 'G:minor',\n",
       " '3668409': 'E:minor',\n",
       " '3681890': 'C:major',\n",
       " '3686302': 'D:minor',\n",
       " '3687442': 'Ab:minor',\n",
       " '3696226': 'Ab:minor',\n",
       " '3703893': 'E:major',\n",
       " '3706570': 'Eb:minor',\n",
       " '3713557': 'Bb:minor',\n",
       " '3740062': 'Ab:major',\n",
       " '3753635': 'F:major',\n",
       " '3759800': 'B:minor',\n",
       " '376240': 'F:minor',\n",
       " '3767408': 'G:minor',\n",
       " '3772753': 'D:minor',\n",
       " '3773561': 'D:minor',\n",
       " '3789116': 'B:minor',\n",
       " '3789117': 'Bb:minor',\n",
       " '3792959': 'E:minor',\n",
       " '3794008': 'Db:minor',\n",
       " '3813682': 'G:minor',\n",
       " '3822226': 'Ab:minor',\n",
       " '3829561': 'Bb:minor',\n",
       " '3833050': 'Db:major',\n",
       " '3836490': 'F:minor',\n",
       " '3841927': 'C:minor',\n",
       " '3858289': 'A:minor',\n",
       " '3858324': 'B:minor',\n",
       " '3858331': 'C:minor',\n",
       " '3892740': 'D:major',\n",
       " '3930672': 'D:minor',\n",
       " '3935095': 'E:minor',\n",
       " '3938837': 'E:minor',\n",
       " '3939148': 'G:minor',\n",
       " '3949799': 'A:minor',\n",
       " '3954078': 'A:minor',\n",
       " '3958396': 'C:major',\n",
       " '3958398': 'G:minor',\n",
       " '3958755': 'Eb:major',\n",
       " '3958861': 'E:minor',\n",
       " '3963180': 'Gb:minor',\n",
       " '3967462': 'E:minor',\n",
       " '3969868': 'F:minor',\n",
       " '3971416': 'D:minor',\n",
       " '3979989': 'Eb:minor',\n",
       " '3980001': 'F:minor',\n",
       " '3986537': 'A:major',\n",
       " '3995054': 'C:minor',\n",
       " '3997722': 'F:minor',\n",
       " '4014747': 'C:minor',\n",
       " '4014749': 'C:minor',\n",
       " '4018247': 'G:minor',\n",
       " '4021075': 'F:minor',\n",
       " '4045225': 'Db:minor',\n",
       " '4060751': 'Eb:minor',\n",
       " '4066359': 'C:minor',\n",
       " '4086909': 'G:minor',\n",
       " '4088665': 'C:major',\n",
       " '4091478': 'A:minor',\n",
       " '4093657': 'Eb:minor',\n",
       " '4093908': 'C:minor',\n",
       " '4104235': 'F:minor',\n",
       " '4107957': 'Db:minor',\n",
       " '4125044': 'F:minor',\n",
       " '4153238': 'A:minor',\n",
       " '4162405': 'A:minor',\n",
       " '4166222': 'E:minor',\n",
       " '4167325': 'F:minor',\n",
       " '4173942': 'C:major',\n",
       " '4191993': 'E:minor',\n",
       " '4200490': 'Gb:minor',\n",
       " '4202763': 'A:minor',\n",
       " '4206954': 'D:minor',\n",
       " '4207145': 'Eb:minor',\n",
       " '423054': 'D:minor',\n",
       " '4234612': 'C:minor',\n",
       " '4254573': 'C:minor',\n",
       " '4262569': 'Eb:minor',\n",
       " '4275052': 'D:major',\n",
       " '4277742': 'F:minor',\n",
       " '4284574': 'A:minor',\n",
       " '4293025': 'A:minor',\n",
       " '4297635': 'E:minor',\n",
       " '4302974': 'E:minor',\n",
       " '4315749': 'F:minor',\n",
       " '4325645': 'C:minor',\n",
       " '4325646': 'D:major',\n",
       " '4327665': 'E:minor',\n",
       " '435443': 'E:major',\n",
       " '4359736': 'F:minor',\n",
       " '4360488': 'F:minor',\n",
       " '4361260': 'C:minor',\n",
       " '4364668': 'Eb:minor',\n",
       " '4366506': 'Eb:minor',\n",
       " '4371042': 'D:minor',\n",
       " '4424988': 'Ab:minor',\n",
       " '4433083': 'Bb:minor',\n",
       " '4440292': 'Ab:minor',\n",
       " '4450726': 'E:minor',\n",
       " '4453556': 'G:minor',\n",
       " '4476610': 'Eb:minor',\n",
       " '4483817': 'Ab:minor',\n",
       " '4485436': 'F:minor',\n",
       " '4498388': 'D:minor',\n",
       " '4505122': 'Gb:major',\n",
       " '4508323': 'B:minor',\n",
       " '4540971': 'Bb:minor',\n",
       " '4566667': 'Gb:minor',\n",
       " '4573655': 'E:minor',\n",
       " '4596347': 'F:minor',\n",
       " '4609349': 'A:minor',\n",
       " '4615188': 'Ab:minor',\n",
       " '4657878': 'Gb:minor',\n",
       " '4661735': 'G:minor',\n",
       " '4666231': 'F:minor',\n",
       " '4688833': 'A:minor',\n",
       " '4693198': 'Ab:major',\n",
       " '4702235': 'D:major',\n",
       " '4723905': 'F:minor',\n",
       " '472626': 'D:minor',\n",
       " '4735775': 'Eb:minor',\n",
       " '4755348': 'G:minor',\n",
       " '4758620': 'F:minor',\n",
       " '4786362': 'C:minor',\n",
       " '4802314': 'E:minor',\n",
       " '4815758': 'C:minor',\n",
       " '4823611': 'F:minor',\n",
       " '4834156': 'D:minor',\n",
       " '4842349': 'G:minor',\n",
       " '4846004': 'B:minor',\n",
       " '4846007': 'Ab:minor',\n",
       " '4857650': 'Bb:minor',\n",
       " '4863806': 'F:minor',\n",
       " '4868146': 'F:minor',\n",
       " '4873286': 'Gb:minor',\n",
       " '4877006': 'F:minor',\n",
       " '4900482': 'Gb:minor',\n",
       " '4917941': 'F:minor',\n",
       " '4920936': 'Db:minor',\n",
       " '4926785': 'G:minor',\n",
       " '4927548': 'F:minor',\n",
       " '4927725': 'Eb:minor',\n",
       " '4934196': 'A:minor',\n",
       " '4935536': 'F:minor',\n",
       " '4939812': 'Bb:minor',\n",
       " '4941208': 'F:minor',\n",
       " '4945105': 'F:minor',\n",
       " '4950604': 'F:minor',\n",
       " '4950614': 'E:minor',\n",
       " '4953926': 'C:minor',\n",
       " '4955428': 'Bb:minor',\n",
       " '4956417': 'Eb:minor',\n",
       " '4957129': 'D:minor',\n",
       " '495905': 'Bb:minor',\n",
       " '4960012': 'G:major',\n",
       " '4965571': 'G:minor',\n",
       " '4969568': 'B:minor',\n",
       " '4970082': 'F:minor',\n",
       " '4981539': 'Gb:minor',\n",
       " '4981541': 'Bb:minor',\n",
       " '4983645': 'D:minor',\n",
       " '4983728': 'G:minor',\n",
       " '4995394': 'Gb:minor',\n",
       " '4995597': 'C:major',\n",
       " '4996031': 'F:minor',\n",
       " '4996389': 'A:minor',\n",
       " '4997194': 'Ab:minor',\n",
       " '4997222': 'Db:minor',\n",
       " '5005412': 'G:minor',\n",
       " '5009084': 'Bb:minor',\n",
       " '5013063': 'E:minor',\n",
       " '5013910': 'G:minor',\n",
       " '5026646': 'F:minor',\n",
       " '5030517': 'Gb:minor',\n",
       " '5035524': 'E:minor',\n",
       " '5036476': 'D:major',\n",
       " '5039015': 'Db:minor',\n",
       " '5039016': 'G:minor',\n",
       " '5048249': 'A:minor',\n",
       " '5048263': 'G:minor',\n",
       " '5049808': 'Ab:minor',\n",
       " '5070608': 'F:minor',\n",
       " '5073839': 'B:major',\n",
       " '5079918': 'Ab:minor',\n",
       " '511348': 'E:minor',\n",
       " '5120298': 'F:minor',\n",
       " '5159593': 'A:minor',\n",
       " '5171396': 'Ab:major',\n",
       " '5263098': 'G:minor',\n",
       " '5264038': 'E:minor',\n",
       " '5276059': 'C:minor',\n",
       " '5302340': 'C:minor',\n",
       " '5304804': 'F:minor',\n",
       " '5362946': 'A:minor',\n",
       " '5417860': 'Ab:minor',\n",
       " '5431709': 'C:minor',\n",
       " '5450838': 'E:minor',\n",
       " '571009': 'F:minor',\n",
       " '582991': 'C:minor',\n",
       " '61415': 'F:minor',\n",
       " '631240': 'G:minor',\n",
       " '631883': 'C:minor',\n",
       " '634032': 'E:minor',\n",
       " '667508': 'D:minor',\n",
       " '671546': 'A:minor',\n",
       " '677299': 'Gb:major',\n",
       " '74982': 'C:minor',\n",
       " '774871': 'B:major',\n",
       " '774875': 'Gb:minor',\n",
       " '781995': 'C:major',\n",
       " '796860': 'Db:minor',\n",
       " '814505': 'A:major',\n",
       " '822664': 'Bb:minor',\n",
       " '835903': 'D:minor',\n",
       " '847422': 'A:minor',\n",
       " '853834': 'E:minor',\n",
       " '873455': 'E:minor',\n",
       " '877345': 'Eb:major',\n",
       " '883724': 'F:minor',\n",
       " '890568': 'E:minor',\n",
       " '891993': 'D:major',\n",
       " '896478': 'B:minor',\n",
       " '907837': 'G:minor',\n",
       " '923397': 'Bb:minor',\n",
       " '945256': 'Eb:minor',\n",
       " '973819': 'F:minor'}"
      ]
     },
     "execution_count": 41,
     "metadata": {},
     "output_type": "execute_result"
    }
   ],
   "source": [
    "id_label"
   ]
  },
  {
   "cell_type": "code",
   "execution_count": 7,
   "id": "cleared-console",
   "metadata": {},
   "outputs": [],
   "source": [
    "def to_madmom_label(keymode, trans):\n",
    "    tonic, mode = keymode.split(':')\n",
    "    madmom_out = (librosa.note_to_midi(tonic) + 3 + int(trans) - 5) % 12 # +3 so that A is bin 0, -5 so that 00 is -5\n",
    "    if mode == 'minor':\n",
    "        madmom_out += 12\n",
    "    return madmom_out"
   ]
  },
  {
   "cell_type": "code",
   "execution_count": 61,
   "id": "possible-titanium",
   "metadata": {},
   "outputs": [],
   "source": [
    "pred_list = []\n",
    "label_list = []\n",
    "\n",
    "p = '/scratch/qx244/data/gskey/augmentation/'\n",
    "for k in id_label.keys():\n",
    "    keymode = id_label[k]\n",
    "    song_preds_paths = ut.glob(p + k + '*.05.npy')\n",
    "    for f in song_preds_paths:\n",
    "        trans = f.split('/')[-1].split('.')[-2]\n",
    "        pred_list.append(np.load(f))\n",
    "#         print(f, trans)\n",
    "        label_list.append(to_madmom_label(keymode, trans))\n",
    "        \n",
    "#         print(keymode, trans)\n",
    "#         print(to_madmom_label(keymode, trans))\n",
    "#         jams_path = f.rsplit('.', 1)[0] + '.jams'\n",
    "#         jam = jams.load(jams_path)\n",
    "#         print(jam.search(namespace='key_mode')[0].to_dataframe().value[0])\n",
    "\n",
    "pred_all = np.concatenate(pred_list, axis=0)\n",
    "label_all = np.array(label_list) # So that bin 0 is A to match with madmom"
   ]
  },
  {
   "cell_type": "code",
   "execution_count": 62,
   "id": "documented-chance",
   "metadata": {},
   "outputs": [
    {
     "data": {
      "text/plain": [
       "(476,)"
      ]
     },
     "execution_count": 62,
     "metadata": {},
     "output_type": "execute_result"
    }
   ],
   "source": [
    "label_all.shape"
   ]
  },
  {
   "cell_type": "code",
   "execution_count": 63,
   "id": "beautiful-layer",
   "metadata": {},
   "outputs": [],
   "source": [
    "from scipy.optimize import minimize_scalar"
   ]
  },
  {
   "cell_type": "code",
   "execution_count": 64,
   "id": "frequent-universe",
   "metadata": {},
   "outputs": [],
   "source": [
    "res = minimize_scalar(ut.better_track_nll,\n",
    "                      args=(label_all, pred_all),\n",
    "                      bounds=(0, 2),\n",
    "                      method='bounded')"
   ]
  },
  {
   "cell_type": "code",
   "execution_count": 65,
   "id": "hawaiian-pakistan",
   "metadata": {},
   "outputs": [
    {
     "data": {
      "text/plain": [
       "     fun: 0.6220509293529419\n",
       " message: 'Solution found.'\n",
       "    nfev: 12\n",
       "  status: 0\n",
       " success: True\n",
       "       x: 1.1559358678320732"
      ]
     },
     "execution_count": 65,
     "metadata": {},
     "output_type": "execute_result"
    }
   ],
   "source": [
    "res"
   ]
  },
  {
   "cell_type": "code",
   "execution_count": 66,
   "id": "stock-newfoundland",
   "metadata": {},
   "outputs": [
    {
     "data": {
      "text/plain": [
       "[<matplotlib.lines.Line2D at 0x14d9e350d9e8>]"
      ]
     },
     "execution_count": 66,
     "metadata": {},
     "output_type": "execute_result"
    },
    {
     "data": {
      "image/png": "[encoded data removed]",
      "text/plain": [
       "<Figure size 432x288 with 1 Axes>"
      ]
     },
     "metadata": {
      "needs_background": "light"
     },
     "output_type": "display_data"
    }
   ],
   "source": [
    "plt.plot(np.arange(0.4, 1.5, 0.01),\n",
    "         [ut.better_track_nll(b, label_all, pred_all) \n",
    "          for b in np.arange(0.4, 1.5, 0.01)])"
   ]
  },
  {
   "cell_type": "code",
   "execution_count": 67,
   "id": "aging-scott",
   "metadata": {},
   "outputs": [],
   "source": [
    "q_all = ut.better_calibrate(res.x, pred_all)\n",
    "p_bench = ut.CalibrationBenchmark(pred_all, label_all)\n",
    "q_bench = ut.CalibrationBenchmark(q_all, label_all)"
   ]
  },
  {
   "cell_type": "code",
   "execution_count": 68,
   "id": "complete-capability",
   "metadata": {},
   "outputs": [
    {
     "data": {
      "image/png": "[encoded data removed]",
      "text/plain": [
       "<Figure size 576x288 with 2 Axes>"
      ]
     },
     "metadata": {
      "needs_background": "light"
     },
     "output_type": "display_data"
    },
    {
     "name": "stdout",
     "output_type": "stream",
     "text": [
      "0.053042333737786065\n"
     ]
    }
   ],
   "source": [
    "p_bench.plot_rd()\n",
    "print(p_bench.ece())"
   ]
  },
  {
   "cell_type": "code",
   "execution_count": 69,
   "id": "about-commons",
   "metadata": {},
   "outputs": [
    {
     "data": {
      "image/png": "[encoded data removed]",
      "text/plain": [
       "<Figure size 576x288 with 2 Axes>"
      ]
     },
     "metadata": {
      "needs_background": "light"
     },
     "output_type": "display_data"
    },
    {
     "name": "stdout",
     "output_type": "stream",
     "text": [
      "0.051818901520767874\n"
     ]
    }
   ],
   "source": [
    "q_bench.plot_rd()\n",
    "print(q_bench.ece())"
   ]
  },
  {
   "cell_type": "markdown",
   "id": "russian-effectiveness",
   "metadata": {},
   "source": [
    "## Now Rock Corpus"
   ]
  },
  {
   "cell_type": "code",
   "execution_count": 21,
   "id": "historical-kansas",
   "metadata": {},
   "outputs": [],
   "source": [
    "import librosa.display\n",
    "from scipy.stats import entropy\n",
    "\n",
    "def track_kl(label_mat, pred_mat):\n",
    "    frames = min(len(label_mat), len(pred_mat))\n",
    "    return entropy(label_mat[:frames], pred_mat[:frames], axis=1)"
   ]
  },
  {
   "cell_type": "code",
   "execution_count": 17,
   "id": "isolated-beauty",
   "metadata": {},
   "outputs": [],
   "source": [
    "rc = ut.RockCorpus()"
   ]
  },
  {
   "cell_type": "code",
   "execution_count": 32,
   "id": "bigger-playback",
   "metadata": {},
   "outputs": [],
   "source": [
    "idx = 49\n",
    "data = rc.track_data(idx)\n",
    "ann_relroot = rc.ann_data(idx)['root']\n",
    "\n",
    "model_relroot = ut.relative_root(data['calib_key'], data['calib_root'])\n",
    "model_relroot_raw = ut.relative_root(data['raw_key'], data['raw_root'])\n",
    "model_relroot_new = ut.relative_root(data['calib_key_new'], data['calib_root'])"
   ]
  },
  {
   "cell_type": "code",
   "execution_count": 70,
   "id": "transparent-final",
   "metadata": {},
   "outputs": [],
   "source": [
    "ann_key = rc.ann_data(idx)['key']"
   ]
  },
  {
   "cell_type": "code",
   "execution_count": 76,
   "id": "informative-letters",
   "metadata": {},
   "outputs": [
    {
     "data": {
      "text/plain": [
       "<matplotlib.collections.QuadMesh at 0x14d9e214da20>"
      ]
     },
     "execution_count": 76,
     "metadata": {},
     "output_type": "execute_result"
    },
    {
     "data": {
      "image/png": "[encoded data removed]",
      "text/plain": [
       "<Figure size 432x288 with 1 Axes>"
      ]
     },
     "metadata": {
      "needs_background": "light"
     },
     "output_type": "display_data"
    }
   ],
   "source": [
    "librosa.display.specshow(ann_key.T, y_axis='chroma')"
   ]
  },
  {
   "cell_type": "code",
   "execution_count": 75,
   "id": "optimum-authority",
   "metadata": {},
   "outputs": [
    {
     "data": {
      "text/plain": [
       "array([[0., 0., 0., 0., 1., 0., 0., 0., 0., 0., 0., 0.]])"
      ]
     },
     "execution_count": 75,
     "metadata": {},
     "output_type": "execute_result"
    }
   ],
   "source": [
    "rc.track_data(idx)['hard_key']"
   ]
  },
  {
   "cell_type": "code",
   "execution_count": null,
   "id": "vital-marijuana",
   "metadata": {},
   "outputs": [],
   "source": []
  },
  {
   "cell_type": "code",
   "execution_count": null,
   "id": "judicial-childhood",
   "metadata": {},
   "outputs": [],
   "source": [
    "rc.track_data(idx)['key']"
   ]
  },
  {
   "cell_type": "code",
   "execution_count": 74,
   "id": "charming-cache",
   "metadata": {},
   "outputs": [
    {
     "data": {
      "text/plain": [
       "4"
      ]
     },
     "execution_count": 74,
     "metadata": {},
     "output_type": "execute_result"
    }
   ],
   "source": [
    "np.argmax(rc.ann_data(idx)['key'][100])"
   ]
  },
  {
   "cell_type": "code",
   "execution_count": 33,
   "id": "portable-norway",
   "metadata": {},
   "outputs": [
    {
     "data": {
      "text/plain": [
       "<matplotlib.collections.QuadMesh at 0x14d9e2c2e9e8>"
      ]
     },
     "execution_count": 33,
     "metadata": {},
     "output_type": "execute_result"
    },
    {
     "data": {
      "image/png": "[encoded data removed]",
      "text/plain": [
       "<Figure size 432x288 with 1 Axes>"
      ]
     },
     "metadata": {
      "needs_background": "light"
     },
     "output_type": "display_data"
    }
   ],
   "source": [
    "librosa.display.specshow(ann_relroot.T, y_axis='chroma')"
   ]
  },
  {
   "cell_type": "code",
   "execution_count": 34,
   "id": "royal-copper",
   "metadata": {},
   "outputs": [
    {
     "data": {
      "text/plain": [
       "<matplotlib.collections.QuadMesh at 0x14d9e2c7a4a8>"
      ]
     },
     "execution_count": 34,
     "metadata": {},
     "output_type": "execute_result"
    },
    {
     "data": {
      "image/png": "[encoded data removed]",
      "text/plain": [
       "<Figure size 432x288 with 1 Axes>"
      ]
     },
     "metadata": {
      "needs_background": "light"
     },
     "output_type": "display_data"
    }
   ],
   "source": [
    "librosa.display.specshow(model_relroot_raw.T, y_axis='chroma')"
   ]
  },
  {
   "cell_type": "code",
   "execution_count": 35,
   "id": "starting-earth",
   "metadata": {},
   "outputs": [
    {
     "data": {
      "text/plain": [
       "<matplotlib.collections.QuadMesh at 0x14d9e3483278>"
      ]
     },
     "execution_count": 35,
     "metadata": {},
     "output_type": "execute_result"
    },
    {
     "data": {
      "image/png": "[encoded data removed]",
      "text/plain": [
       "<Figure size 432x288 with 1 Axes>"
      ]
     },
     "metadata": {
      "needs_background": "light"
     },
     "output_type": "display_data"
    }
   ],
   "source": [
    "librosa.display.specshow(model_relroot_new.T, y_axis='chroma')"
   ]
  },
  {
   "cell_type": "code",
   "execution_count": 37,
   "id": "falling-conclusion",
   "metadata": {},
   "outputs": [
    {
     "data": {
      "image/png": "[encoded data removed]",
      "text/plain": [
       "<Figure size 432x288 with 1 Axes>"
      ]
     },
     "metadata": {
      "needs_background": "light"
     },
     "output_type": "display_data"
    }
   ],
   "source": [
    "plt.plot(track_kl(ann_relroot, model_relroot_raw) - track_kl(ann_relroot, model_relroot_new))\n",
    "plt.show()"
   ]
  },
  {
   "cell_type": "code",
   "execution_count": 40,
   "id": "native-algorithm",
   "metadata": {},
   "outputs": [
    {
     "data": {
      "text/plain": [
       "0.5897545690774653"
      ]
     },
     "execution_count": 40,
     "metadata": {},
     "output_type": "execute_result"
    }
   ],
   "source": [
    "np.mean(track_kl(ann_relroot, model_relroot_raw))"
   ]
  },
  {
   "cell_type": "code",
   "execution_count": 41,
   "id": "administrative-weekly",
   "metadata": {},
   "outputs": [
    {
     "data": {
      "text/plain": [
       "0.548739304339213"
      ]
     },
     "execution_count": 41,
     "metadata": {},
     "output_type": "execute_result"
    }
   ],
   "source": [
    "np.mean(track_kl(ann_relroot, model_relroot))"
   ]
  },
  {
   "cell_type": "code",
   "execution_count": 42,
   "id": "coral-salem",
   "metadata": {
    "scrolled": true
   },
   "outputs": [
    {
     "data": {
      "text/plain": [
       "0.553051862846095"
      ]
     },
     "execution_count": 42,
     "metadata": {},
     "output_type": "execute_result"
    }
   ],
   "source": [
    "np.mean(track_kl(ann_relroot, model_relroot_new))"
   ]
  },
  {
   "cell_type": "markdown",
   "id": "pharmaceutical-disposal",
   "metadata": {},
   "source": [
    "## Now over the whole corpus"
   ]
  },
  {
   "cell_type": "code",
   "execution_count": 43,
   "id": "simple-giving",
   "metadata": {},
   "outputs": [],
   "source": [
    "kl_list = []\n",
    "for i in range(len(rc)):\n",
    "    data = rc.track_data(i)\n",
    "    ann_relroot = rc.ann_data(i)['root']\n",
    "    model_relroot = ut.relative_root(data['calib_key'], data['calib_root'])\n",
    "    kl_list.append(track_kl(ann_relroot, model_relroot))\n",
    "    \n",
    "kl_means = [np.mean(arr) for arr in kl_list]\n",
    "\n",
    "raw_kl_list = []\n",
    "for i in range(len(rc)):\n",
    "    data = rc.track_data(i)\n",
    "    ann_relroot = rc.ann_data(i)['root']\n",
    "    model_relroot = ut.relative_root(data['raw_key'], data['raw_root'])\n",
    "    raw_kl_list.append(track_kl(ann_relroot, model_relroot))\n",
    "    \n",
    "raw_kl_means = [np.mean(arr) for arr in raw_kl_list]\n",
    "\n",
    "new_kl_list = []\n",
    "for i in range(len(rc)):\n",
    "    data = rc.track_data(i)\n",
    "    ann_relroot = rc.ann_data(i)['root']\n",
    "    model_relroot = ut.relative_root(data['calib_key_new'], data['calib_root'])\n",
    "    new_kl_list.append(track_kl(ann_relroot, model_relroot))\n",
    "    \n",
    "new_kl_means = [np.mean(arr) for arr in new_kl_list]"
   ]
  },
  {
   "cell_type": "code",
   "execution_count": 53,
   "id": "canadian-virus",
   "metadata": {},
   "outputs": [],
   "source": [
    "def plot_track_kl(kl_raw, kl_calib):\n",
    "    above_raw = []\n",
    "    above_cal = []\n",
    "    below_raw = []\n",
    "    below_cal = []\n",
    "\n",
    "    for pair in zip(kl_raw, kl_calib):\n",
    "        if pair[1] >= pair[0]:\n",
    "            above_raw.append(pair[0])\n",
    "            above_cal.append(pair[1])\n",
    "        else:\n",
    "            below_raw.append(pair[0])\n",
    "            below_cal.append(pair[1])\n",
    "\n",
    "    plt.figure(figsize=(10,10))\n",
    "    plt.scatter(above_raw, above_cal)\n",
    "    plt.scatter(below_raw, below_cal)\n",
    "    plt.ylabel('calibrated KL')\n",
    "    plt.xlabel('uncalibrated KL')\n",
    "    plt.plot([0,2,3.5], [0,2,3.5], ':')\n",
    "    plt.show()"
   ]
  },
  {
   "cell_type": "code",
   "execution_count": 54,
   "id": "formed-occasions",
   "metadata": {},
   "outputs": [
    {
     "data": {
      "image/png": "[encoded data removed]",
      "text/plain": [
       "<Figure size 720x720 with 1 Axes>"
      ]
     },
     "metadata": {
      "needs_background": "light"
     },
     "output_type": "display_data"
    }
   ],
   "source": [
    "plot_track_kl(raw_kl_means, new_kl_means)"
   ]
  },
  {
   "cell_type": "code",
   "execution_count": 59,
   "id": "neither-british",
   "metadata": {},
   "outputs": [
    {
     "data": {
      "text/plain": [
       "-0.015997864356506485"
      ]
     },
     "execution_count": 59,
     "metadata": {},
     "output_type": "execute_result"
    }
   ],
   "source": [
    "np.mean(np.array(raw_kl_means) - np.array(new_kl_means))"
   ]
  },
  {
   "cell_type": "code",
   "execution_count": 60,
   "id": "maritime-coach",
   "metadata": {},
   "outputs": [
    {
     "data": {
      "text/plain": [
       "-0.009599504205007919"
      ]
     },
     "execution_count": 60,
     "metadata": {},
     "output_type": "execute_result"
    }
   ],
   "source": [
    "np.mean(np.array(raw_kl_means) - np.array(kl_means))"
   ]
  },
  {
   "cell_type": "code",
   "execution_count": 55,
   "id": "continuous-jonathan",
   "metadata": {},
   "outputs": [
    {
     "data": {
      "image/png": "[encoded data removed]",
      "text/plain": [
       "<Figure size 720x720 with 1 Axes>"
      ]
     },
     "metadata": {
      "needs_background": "light"
     },
     "output_type": "display_data"
    }
   ],
   "source": [
    "plot_track_kl(raw_kl_means, kl_means)"
   ]
  },
  {
   "cell_type": "code",
   "execution_count": 56,
   "id": "national-desire",
   "metadata": {
    "scrolled": false
   },
   "outputs": [
    {
     "data": {
      "image/png": "[encoded data removed]",
      "text/plain": [
       "<Figure size 720x720 with 1 Axes>"
      ]
     },
     "metadata": {
      "needs_background": "light"
     },
     "output_type": "display_data"
    }
   ],
   "source": [
    "plot_track_kl(kl_means, new_kl_means)"
   ]
  },
  {
   "cell_type": "code",
   "execution_count": 58,
   "id": "quality-oregon",
   "metadata": {},
   "outputs": [
    {
     "data": {
      "text/plain": [
       "-0.006398360151498566"
      ]
     },
     "execution_count": 58,
     "metadata": {},
     "output_type": "execute_result"
    }
   ],
   "source": [
    "np.mean(np.array(kl_means) - np.array(new_kl_means))"
   ]
  },
  {
   "cell_type": "code",
   "execution_count": null,
   "id": "missing-dylan",
   "metadata": {},
   "outputs": [],
   "source": []
  }
 ],
 "metadata": {
  "kernelspec": {
   "display_name": "Python 3",
   "language": "python",
   "name": "python3"
  },
  "language_info": {
   "codemirror_mode": {
    "name": "ipython",
    "version": 3
   },
   "file_extension": ".py",
   "mimetype": "text/x-python",
   "name": "python",
   "nbconvert_exporter": "python",
   "pygments_lexer": "ipython3",
   "version": "3.6.12"
  }
 },
 "nbformat": 4,
 "nbformat_minor": 5
}
