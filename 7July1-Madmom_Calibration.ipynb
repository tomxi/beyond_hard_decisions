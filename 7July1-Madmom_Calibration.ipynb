{
 "cells": [
  {
   "cell_type": "code",
   "execution_count": 51,
   "id": "false-glasgow",
   "metadata": {},
   "outputs": [],
   "source": [
    "import util as ut\n",
    "import numpy as np\n",
    "import os\n",
    "import jams\n",
    "import librosa\n",
    "import matplotlib.pyplot as plt\n",
    "import madmom"
   ]
  },
  {
   "cell_type": "markdown",
   "id": "affecting-wilderness",
   "metadata": {},
   "source": [
    "## Get Key Test Set: GSKey"
   ]
  },
  {
   "cell_type": "code",
   "execution_count": 3,
   "id": "confused-negotiation",
   "metadata": {},
   "outputs": [
    {
     "name": "stdout",
     "output_type": "stream",
     "text": [
      "6612\n"
     ]
    }
   ],
   "source": [
    "p = '/scratch/qx244/data/gskey/augmentation'\n",
    "file_list = ut.glob(os.path.join(p, '*.npy'))\n",
    "print(len(file_list))"
   ]
  },
  {
   "cell_type": "code",
   "execution_count": 4,
   "id": "instant-colony",
   "metadata": {},
   "outputs": [
    {
     "data": {
      "text/plain": [
       "['A major',\n",
       " 'Bb major',\n",
       " 'B major',\n",
       " 'C major',\n",
       " 'Db major',\n",
       " 'D major',\n",
       " 'Eb major',\n",
       " 'E major',\n",
       " 'F major',\n",
       " 'F# major',\n",
       " 'G major',\n",
       " 'Ab major',\n",
       " 'A minor',\n",
       " 'Bb minor',\n",
       " 'B minor',\n",
       " 'C minor',\n",
       " 'C# minor',\n",
       " 'D minor',\n",
       " 'D# minor',\n",
       " 'E minor',\n",
       " 'F minor',\n",
       " 'F# minor',\n",
       " 'G minor',\n",
       " 'G# minor']"
      ]
     },
     "execution_count": 4,
     "metadata": {},
     "output_type": "execute_result"
    }
   ],
   "source": [
    "madmom.features.key.KEY_LABELS"
   ]
  },
  {
   "cell_type": "code",
   "execution_count": 5,
   "id": "harmful-white",
   "metadata": {},
   "outputs": [],
   "source": [
    "pred_list = []\n",
    "label_list = []\n",
    "for f in file_list:\n",
    "    jams_path = f.rsplit('.', 1)[0] + '.jams'\n",
    "    pred_list.append(np.load(f))\n",
    "    jam = jams.load(jams_path)\n",
    "    tonic = jam.search(namespace='key_mode')[0].to_dataframe().value[0]\n",
    "    label_list.append((librosa.note_to_midi(tonic)) % 12)\n",
    "\n",
    "pred_all = np.concatenate(pred_list, axis=0)\n",
    "label_all = (np.array(label_list) + 3) % 12 # So that bin 0 is A to match with madmom"
   ]
  },
  {
   "cell_type": "code",
   "execution_count": 6,
   "id": "architectural-anaheim",
   "metadata": {},
   "outputs": [
    {
     "data": {
      "text/plain": [
       "(6612, 24)"
      ]
     },
     "execution_count": 6,
     "metadata": {},
     "output_type": "execute_result"
    }
   ],
   "source": [
    "pred_all.shape"
   ]
  },
  {
   "cell_type": "markdown",
   "id": "sonic-small",
   "metadata": {},
   "source": [
    "We want to minimize the follwing quantity:"
   ]
  },
  {
   "cell_type": "code",
   "execution_count": 11,
   "id": "canadian-giving",
   "metadata": {},
   "outputs": [],
   "source": [
    "from scipy.optimize import minimize_scalar"
   ]
  },
  {
   "cell_type": "markdown",
   "id": "constitutional-fight",
   "metadata": {},
   "source": [
    "### 1. raise to the beta first then marginalize"
   ]
  },
  {
   "cell_type": "code",
   "execution_count": 68,
   "id": "greenhouse-proof",
   "metadata": {},
   "outputs": [],
   "source": [
    "def madmom_track_nll(beta, tc_labels, madmom_out):\n",
    "    \"\"\" just summing frame_nll across the whole track\n",
    "    Param:\n",
    "        beta: inverse temp < 0\n",
    "        tc_labels: vector of tonal center labels, with 0 being A\n",
    "        madmom_out: matrix with shape N x 24\n",
    "    Returns:\n",
    "        Aggregated frame_nll\n",
    "    \"\"\"\n",
    "    madmom_q = madmom_out ** beta\n",
    "    madmom_q /= np.sum(madmom_q, axis=1, keepdims=True)\n",
    "    tc_q = madmom_q[:, :12] + madmom_q[:, 12:]\n",
    "    \n",
    "    per_frame_nll = -np.log(np.take_along_axis(tc_q, tc_labels[:, np.newaxis], axis=1))\n",
    "    return np.mean(per_frame_nll)\n",
    "\n",
    "def madmom_calib(beta, madmom_out):\n",
    "    madmom_q = madmom_out ** beta\n",
    "    madmom_q /= np.sum(madmom_q, axis=1, keepdims=True)\n",
    "    tc_q = madmom_q[:, :12] + madmom_q[:, 12:]\n",
    "    return tc_q"
   ]
  },
  {
   "cell_type": "code",
   "execution_count": 69,
   "id": "active-library",
   "metadata": {},
   "outputs": [],
   "source": [
    "res = minimize_scalar(madmom_track_nll, \n",
    "                      args=(label_all, pred_all),\n",
    "                      bounds=(0, 2),\n",
    "                      method='bounded')"
   ]
  },
  {
   "cell_type": "code",
   "execution_count": 70,
   "id": "dimensional-netherlands",
   "metadata": {
    "scrolled": true
   },
   "outputs": [
    {
     "data": {
      "text/plain": [
       "     fun: 0.5319866913805712\n",
       " message: 'Solution found.'\n",
       "    nfev: 11\n",
       "  status: 0\n",
       " success: True\n",
       "       x: 1.1939114525258065"
      ]
     },
     "execution_count": 70,
     "metadata": {},
     "output_type": "execute_result"
    }
   ],
   "source": [
    "res"
   ]
  },
  {
   "cell_type": "code",
   "execution_count": 71,
   "id": "after-induction",
   "metadata": {},
   "outputs": [
    {
     "data": {
      "text/plain": [
       "[<matplotlib.lines.Line2D at 0x155011be3208>]"
      ]
     },
     "execution_count": 71,
     "metadata": {},
     "output_type": "execute_result"
    },
    {
     "data": {
      "image/png": "[encoded data removed]",
      "text/plain": [
       "<Figure size 432x288 with 1 Axes>"
      ]
     },
     "metadata": {
      "needs_background": "light"
     },
     "output_type": "display_data"
    }
   ],
   "source": [
    "plt.plot(np.arange(0.1, 1.5, 0.01),\n",
    "         [madmom_track_nll(b, label_all, pred_all) \n",
    "          for b in np.arange(0.1, 1.5, 0.01)])"
   ]
  },
  {
   "cell_type": "code",
   "execution_count": 72,
   "id": "static-samba",
   "metadata": {
    "scrolled": false
   },
   "outputs": [],
   "source": [
    "def plot_compare_eces(p_bench, q_bench):\n",
    "    bins = np.linspace(0, 1, num=15, endpoint=True)\n",
    "    plt.figure(figsize=(12,8))\n",
    "    plt.plot(bins, p_bench.bin_accuracy(), 'r:')\n",
    "    plt.plot(bins, q_bench.bin_accuracy(), 'g-')\n",
    "    plt.plot(bins, bins, 'k')\n",
    "    plt.xlabel('perdiction confidence')\n",
    "    plt.ylabel('average accuracy')\n",
    "    plt.show()"
   ]
  },
  {
   "cell_type": "code",
   "execution_count": 73,
   "id": "suspended-chick",
   "metadata": {},
   "outputs": [
    {
     "data": {
      "image/png": "[encoded data removed]",
      "text/plain": [
       "<Figure size 864x576 with 1 Axes>"
      ]
     },
     "metadata": {
      "needs_background": "light"
     },
     "output_type": "display_data"
    }
   ],
   "source": [
    "p = madmom_calib(1, pred_all)\n",
    "q = madmom_calib(res.x, pred_all)\n",
    "p_bench = ut.CalibrationBenchmark(p, label_all)\n",
    "q_bench = ut.CalibrationBenchmark(q, label_all)\n",
    "plot_compare_eces(p_bench, q_bench)"
   ]
  },
  {
   "cell_type": "code",
   "execution_count": 74,
   "id": "interstate-disco",
   "metadata": {},
   "outputs": [
    {
     "data": {
      "text/plain": [
       "0.057454659563644817"
      ]
     },
     "execution_count": 74,
     "metadata": {},
     "output_type": "execute_result"
    }
   ],
   "source": [
    "p_bench.ece()"
   ]
  },
  {
   "cell_type": "code",
   "execution_count": 75,
   "id": "crucial-finder",
   "metadata": {},
   "outputs": [
    {
     "data": {
      "text/plain": [
       "0.030261222661164107"
      ]
     },
     "execution_count": 75,
     "metadata": {},
     "output_type": "execute_result"
    }
   ],
   "source": [
    "q_bench.ece()"
   ]
  },
  {
   "cell_type": "markdown",
   "id": "known-stage",
   "metadata": {},
   "source": [
    "### 2. Marginalize then raise to the beta"
   ]
  },
  {
   "cell_type": "code",
   "execution_count": 76,
   "id": "descending-america",
   "metadata": {},
   "outputs": [],
   "source": [
    "def add_track_nll(beta, tc_labels, madmom_out):\n",
    "    \"\"\" just summing frame_nll across the whole track\n",
    "    Param:\n",
    "        beta: inverse temp < 0\n",
    "        tc_labels: vector of tonal center labels, with 0 being A\n",
    "        madmom_out: matrix with shape N x 24\n",
    "    Returns:\n",
    "        Aggregated frame_nll\n",
    "    \"\"\"\n",
    "    tc = madmom_out[:, :12] + madmom_out[:, 12:]\n",
    "    tc_q = tc ** beta\n",
    "    tc_q /= np.sum(tc_q, axis=1, keepdims=True)\n",
    "    \n",
    "    per_frame_nll = -np.log(np.take_along_axis(tc_q, tc_labels[:, np.newaxis], axis=1))\n",
    "    return np.mean(per_frame_nll)\n",
    "\n",
    "def add_calib(beta, madmom_out):\n",
    "    tc = madmom_out[:, :12] + madmom_out[:, 12:]\n",
    "    tc_q = tc ** beta\n",
    "    tc_q /= np.sum(tc_q, axis=1, keepdims=True)\n",
    "    return tc_q"
   ]
  },
  {
   "cell_type": "code",
   "execution_count": 77,
   "id": "special-morgan",
   "metadata": {},
   "outputs": [],
   "source": [
    "res = minimize_scalar(add_track_nll, \n",
    "                      args=(label_all, pred_all),\n",
    "                      bounds=(0, 2),\n",
    "                      method='bounded')"
   ]
  },
  {
   "cell_type": "code",
   "execution_count": 95,
   "id": "equivalent-duncan",
   "metadata": {},
   "outputs": [],
   "source": [
    "res_a = minimize_scalar(add_track_nll, \n",
    "                      args=(label_all, pred_all),\n",
    "                      bounds=(0, 1),\n",
    "                      method='bounded')"
   ]
  },
  {
   "cell_type": "code",
   "execution_count": 96,
   "id": "greek-underwear",
   "metadata": {},
   "outputs": [
    {
     "data": {
      "text/plain": [
       "     fun: 0.5460690846128482\n",
       " message: 'Solution found.'\n",
       "    nfev: 25\n",
       "  status: 0\n",
       " success: True\n",
       "       x: 0.9999941325303439"
      ]
     },
     "execution_count": 96,
     "metadata": {},
     "output_type": "execute_result"
    }
   ],
   "source": [
    "res_a"
   ]
  },
  {
   "cell_type": "code",
   "execution_count": 78,
   "id": "seven-poland",
   "metadata": {},
   "outputs": [
    {
     "data": {
      "text/plain": [
       "     fun: 0.5321072002952393\n",
       " message: 'Solution found.'\n",
       "    nfev: 10\n",
       "  status: 0\n",
       " success: True\n",
       "       x: 1.206828490321766"
      ]
     },
     "execution_count": 78,
     "metadata": {},
     "output_type": "execute_result"
    }
   ],
   "source": [
    "res"
   ]
  },
  {
   "cell_type": "code",
   "execution_count": 79,
   "id": "metallic-television",
   "metadata": {},
   "outputs": [
    {
     "data": {
      "text/plain": [
       "[<matplotlib.lines.Line2D at 0x155011d58b70>]"
      ]
     },
     "execution_count": 79,
     "metadata": {},
     "output_type": "execute_result"
    },
    {
     "data": {
      "image/png": "[encoded data removed]",
      "text/plain": [
       "<Figure size 432x288 with 1 Axes>"
      ]
     },
     "metadata": {
      "needs_background": "light"
     },
     "output_type": "display_data"
    }
   ],
   "source": [
    "plt.plot(np.arange(0.1, 1.5, 0.01),\n",
    "         [add_track_nll(b, label_all, pred_all) \n",
    "          for b in np.arange(0.1, 1.5, 0.01)])"
   ]
  },
  {
   "cell_type": "code",
   "execution_count": 80,
   "id": "individual-balance",
   "metadata": {},
   "outputs": [
    {
     "data": {
      "image/png": "[encoded data removed]",
      "text/plain": [
       "<Figure size 864x576 with 1 Axes>"
      ]
     },
     "metadata": {
      "needs_background": "light"
     },
     "output_type": "display_data"
    }
   ],
   "source": [
    "p = add_calib(1, pred_all)\n",
    "q = add_calib(res.x, pred_all)\n",
    "p_bench = ut.CalibrationBenchmark(p, label_all)\n",
    "q_bench = ut.CalibrationBenchmark(q, label_all)\n",
    "plot_compare_eces(p_bench, q_bench)"
   ]
  },
  {
   "cell_type": "code",
   "execution_count": 81,
   "id": "clear-sensitivity",
   "metadata": {},
   "outputs": [
    {
     "data": {
      "text/plain": [
       "0.057454659563644817"
      ]
     },
     "execution_count": 81,
     "metadata": {},
     "output_type": "execute_result"
    }
   ],
   "source": [
    "p_bench.ece()"
   ]
  },
  {
   "cell_type": "code",
   "execution_count": 82,
   "id": "middle-damages",
   "metadata": {},
   "outputs": [
    {
     "data": {
      "text/plain": [
       "0.02997769521605532"
      ]
     },
     "execution_count": 82,
     "metadata": {},
     "output_type": "execute_result"
    }
   ],
   "source": [
    "q_bench.ece()"
   ]
  },
  {
   "cell_type": "markdown",
   "id": "vietnamese-thong",
   "metadata": {},
   "source": [
    "## 3. marginalize first andwith AND, same as adding logits"
   ]
  },
  {
   "cell_type": "code",
   "execution_count": 83,
   "id": "informed-eating",
   "metadata": {},
   "outputs": [],
   "source": [
    "def logit_track_nll(beta, tc_labels, madmom_out):\n",
    "    \"\"\" just summing frame_nll across the whole track\n",
    "    Param:\n",
    "        beta: inverse temp < 0\n",
    "        tc_labels: vector of tonal center labels, with 0 being A\n",
    "        madmom_out: matrix with shape N x 24\n",
    "    Returns:\n",
    "        Aggregated frame_nll\n",
    "    \"\"\"\n",
    "    tc = madmom_out[:, :12] * madmom_out[:, 12:]\n",
    "    tc /= np.sum(tc, axis=1, keepdims=True)\n",
    "    tc_q = tc ** beta\n",
    "    tc_q /= np.sum(tc_q, axis=1, keepdims=True)\n",
    "    \n",
    "    per_frame_nll = -np.log(np.take_along_axis(tc_q, tc_labels[:, np.newaxis], axis=1))\n",
    "    return np.mean(per_frame_nll)\n",
    "\n",
    "def logit_calib(beta, madmom_out):\n",
    "    tc = madmom_out[:, :12] * madmom_out[:, 12:]\n",
    "    tc /= np.sum(tc, axis=1, keepdims=True)\n",
    "    tc_q = tc ** beta\n",
    "    tc_q /= np.sum(tc_q, axis=1, keepdims=True)\n",
    "    return tc_q"
   ]
  },
  {
   "cell_type": "code",
   "execution_count": 84,
   "id": "ordered-appendix",
   "metadata": {},
   "outputs": [],
   "source": [
    "res = minimize_scalar(logit_track_nll, \n",
    "                      args=(label_all, pred_all),\n",
    "                      bounds=(0, 2),\n",
    "                      method='bounded')"
   ]
  },
  {
   "cell_type": "code",
   "execution_count": 85,
   "id": "banned-enough",
   "metadata": {},
   "outputs": [
    {
     "data": {
      "text/plain": [
       "     fun: 0.5278569629523883\n",
       " message: 'Solution found.'\n",
       "    nfev: 11\n",
       "  status: 0\n",
       " success: True\n",
       "       x: 0.7806338431868136"
      ]
     },
     "execution_count": 85,
     "metadata": {},
     "output_type": "execute_result"
    }
   ],
   "source": [
    "res"
   ]
  },
  {
   "cell_type": "code",
   "execution_count": 86,
   "id": "green-climate",
   "metadata": {},
   "outputs": [
    {
     "data": {
      "text/plain": [
       "[<matplotlib.lines.Line2D at 0x1550120a3ac8>]"
      ]
     },
     "execution_count": 86,
     "metadata": {},
     "output_type": "execute_result"
    },
    {
     "data": {
      "image/png": "[encoded data removed]",
      "text/plain": [
       "<Figure size 432x288 with 1 Axes>"
      ]
     },
     "metadata": {
      "needs_background": "light"
     },
     "output_type": "display_data"
    }
   ],
   "source": [
    "plt.plot(np.arange(0.1, 1.5, 0.01),\n",
    "         [logit_track_nll(b, label_all, pred_all) \n",
    "          for b in np.arange(0.1, 1.5, 0.01)])"
   ]
  },
  {
   "cell_type": "code",
   "execution_count": null,
   "id": "detailed-break",
   "metadata": {
    "scrolled": false
   },
   "outputs": [],
   "source": [
    "p = logit_calib(1, pred_all)\n",
    "q = logit_calib(res.x, pred_all)\n",
    "p_bench = ut.CalibrationBenchmark(p, label_all)\n",
    "q_bench = ut.CalibrationBenchmark(q, label_all)\n",
    "plot_compare_eces(p_bench, q_bench)"
   ]
  },
  {
   "cell_type": "code",
   "execution_count": 106,
   "id": "rolled-heavy",
   "metadata": {},
   "outputs": [
    {
     "data": {
      "text/plain": [
       "0.04822095747507236"
      ]
     },
     "execution_count": 106,
     "metadata": {},
     "output_type": "execute_result"
    }
   ],
   "source": [
    "p_bench.ece()"
   ]
  },
  {
   "cell_type": "code",
   "execution_count": 88,
   "id": "conservative-infrared",
   "metadata": {},
   "outputs": [
    {
     "data": {
      "text/plain": [
       "0.01780341704796239"
      ]
     },
     "execution_count": 88,
     "metadata": {},
     "output_type": "execute_result"
    }
   ],
   "source": [
    "q_bench.ece()"
   ]
  },
  {
   "cell_type": "markdown",
   "id": "visible-therapist",
   "metadata": {},
   "source": [
    "## 4. raise to the beta first and then marginalize with AND"
   ]
  },
  {
   "cell_type": "code",
   "execution_count": 89,
   "id": "integral-alberta",
   "metadata": {},
   "outputs": [],
   "source": [
    "def prelogit_track_nll(beta, tc_labels, madmom_out):\n",
    "    \"\"\" just summing frame_nll across the whole track\n",
    "    Param:\n",
    "        beta: inverse temp < 0\n",
    "        tc_labels: vector of tonal center labels, with 0 being A\n",
    "        madmom_out: matrix with shape N x 24\n",
    "    Returns:\n",
    "        Aggregated frame_nll\n",
    "    \"\"\"\n",
    "    madmom_q = madmom_out ** beta\n",
    "    madmom_q /= np.sum(madmom_q, axis=1, keepdims=True)\n",
    "    tc_q = madmom_q[:, :12] * madmom_q[:, 12:]\n",
    "    tc_q /= np.sum(tc_q, axis=1, keepdims=True)\n",
    "    \n",
    "    per_frame_nll = -np.log(np.take_along_axis(tc_q, tc_labels[:, np.newaxis], axis=1))\n",
    "    return np.mean(per_frame_nll)\n",
    "\n",
    "def prelogit_calib(beta, madmom_out):\n",
    "    madmom_q = madmom_out ** beta\n",
    "    madmom_q /= np.sum(madmom_q, axis=1, keepdims=True)\n",
    "    tc_q = madmom_q[:, :12] * madmom_q[:, 12:]\n",
    "    tc_q /= np.sum(tc_q, axis=1, keepdims=True)\n",
    "    return tc_q"
   ]
  },
  {
   "cell_type": "code",
   "execution_count": 90,
   "id": "permanent-antique",
   "metadata": {},
   "outputs": [],
   "source": [
    "res = minimize_scalar(prelogit_track_nll, \n",
    "                      args=(label_all, pred_all),\n",
    "                      bounds=(0, 2),\n",
    "                      method='bounded')"
   ]
  },
  {
   "cell_type": "code",
   "execution_count": 91,
   "id": "expected-floor",
   "metadata": {},
   "outputs": [
    {
     "data": {
      "text/plain": [
       "     fun: 0.5278569629523883\n",
       " message: 'Solution found.'\n",
       "    nfev: 11\n",
       "  status: 0\n",
       " success: True\n",
       "       x: 0.7806338431868142"
      ]
     },
     "execution_count": 91,
     "metadata": {},
     "output_type": "execute_result"
    }
   ],
   "source": [
    "res"
   ]
  },
  {
   "cell_type": "code",
   "execution_count": 92,
   "id": "protecting-expert",
   "metadata": {},
   "outputs": [
    {
     "data": {
      "text/plain": [
       "[<matplotlib.lines.Line2D at 0x155011f1a2e8>]"
      ]
     },
     "execution_count": 92,
     "metadata": {},
     "output_type": "execute_result"
    },
    {
     "data": {
      "image/png": "[encoded data removed]",
      "text/plain": [
       "<Figure size 432x288 with 1 Axes>"
      ]
     },
     "metadata": {
      "needs_background": "light"
     },
     "output_type": "display_data"
    }
   ],
   "source": [
    "plt.plot(np.arange(0.1, 1.5, 0.01),\n",
    "         [prelogit_track_nll(b, label_all, pred_all) \n",
    "          for b in np.arange(0.1, 1.5, 0.01)])"
   ]
  },
  {
   "cell_type": "code",
   "execution_count": 93,
   "id": "quick-purple",
   "metadata": {},
   "outputs": [
    {
     "data": {
      "image/png": "[encoded data removed]",
      "text/plain": [
       "<Figure size 864x576 with 1 Axes>"
      ]
     },
     "metadata": {
      "needs_background": "light"
     },
     "output_type": "display_data"
    }
   ],
   "source": [
    "p = prelogit_calib(1, pred_all)\n",
    "q = prelogit_calib(res.x, pred_all)\n",
    "p_bench = ut.CalibrationBenchmark(p, label_all)\n",
    "q_bench = ut.CalibrationBenchmark(q, label_all)\n",
    "plot_compare_eces(p_bench, q_bench)"
   ]
  },
  {
   "cell_type": "code",
   "execution_count": null,
   "id": "running-general",
   "metadata": {},
   "outputs": [],
   "source": []
  },
  {
   "cell_type": "code",
   "execution_count": 94,
   "id": "corrected-bracket",
   "metadata": {},
   "outputs": [
    {
     "data": {
      "text/plain": [
       "0.017803417047962438"
      ]
     },
     "execution_count": 94,
     "metadata": {},
     "output_type": "execute_result"
    }
   ],
   "source": [
    "q_bench.ece()"
   ]
  },
  {
   "cell_type": "markdown",
   "id": "rising-wyoming",
   "metadata": {},
   "source": [
    "## 5. True Gemometric mean"
   ]
  },
  {
   "cell_type": "code",
   "execution_count": 103,
   "id": "protecting-spectrum",
   "metadata": {},
   "outputs": [],
   "source": [
    "def geom_track_nll(beta, tc_labels, madmom_out):\n",
    "    \"\"\" just summing frame_nll across the whole track\n",
    "    Param:\n",
    "        beta: inverse temp < 0\n",
    "        tc_labels: vector of tonal center labels, with 0 being A\n",
    "        madmom_out: matrix with shape N x 24\n",
    "    Returns:\n",
    "        Aggregated frame_nll\n",
    "    \"\"\"\n",
    "    madmom_q = madmom_out ** beta\n",
    "    madmom_q /= np.sum(madmom_q, axis=1, keepdims=True)\n",
    "    tc_q = np.sqrt(madmom_q[:, :12] * madmom_q[:, 12:])\n",
    "    tc_q /= np.sum(tc_q, axis=1, keepdims=True)\n",
    "    \n",
    "    per_frame_nll = -np.log(np.take_along_axis(tc_q, tc_labels[:, np.newaxis], axis=1))\n",
    "    return np.mean(per_frame_nll)\n",
    "\n",
    "def geom_calib(beta, madmom_out):\n",
    "    madmom_q = madmom_out ** beta\n",
    "    madmom_q /= np.sum(madmom_q, axis=1, keepdims=True)\n",
    "    tc_q = np.sqrt(madmom_q[:, :12] * madmom_q[:, 12:])\n",
    "    tc_q /= np.sum(tc_q, axis=1, keepdims=True)\n",
    "    return tc_q"
   ]
  },
  {
   "cell_type": "code",
   "execution_count": 104,
   "id": "double-calvin",
   "metadata": {},
   "outputs": [],
   "source": [
    "res = minimize_scalar(geom_track_nll, \n",
    "                      args=(label_all, pred_all),\n",
    "                      bounds=(0, 2),\n",
    "                      method='bounded')"
   ]
  },
  {
   "cell_type": "code",
   "execution_count": 105,
   "id": "ambient-quantity",
   "metadata": {},
   "outputs": [
    {
     "data": {
      "text/plain": [
       "     fun: 0.5278569629522144\n",
       " message: 'Solution found.'\n",
       "    nfev: 11\n",
       "  status: 0\n",
       " success: True\n",
       "       x: 1.5612663968691582"
      ]
     },
     "execution_count": 105,
     "metadata": {},
     "output_type": "execute_result"
    }
   ],
   "source": [
    "res"
   ]
  },
  {
   "cell_type": "markdown",
   "id": "south-spare",
   "metadata": {},
   "source": [
    "## inspect the madmom prediction matrix"
   ]
  },
  {
   "cell_type": "code",
   "execution_count": 52,
   "id": "suspected-booth",
   "metadata": {},
   "outputs": [
    {
     "data": {
      "text/plain": [
       "(6612, 24)"
      ]
     },
     "execution_count": 52,
     "metadata": {},
     "output_type": "execute_result"
    }
   ],
   "source": [
    "pred_all.shape"
   ]
  },
  {
   "cell_type": "code",
   "execution_count": 53,
   "id": "varied-venture",
   "metadata": {},
   "outputs": [],
   "source": [
    "pred_max = np.max(pred_all, axis=1)"
   ]
  },
  {
   "cell_type": "code",
   "execution_count": 57,
   "id": "framed-stack",
   "metadata": {},
   "outputs": [
    {
     "data": {
      "text/plain": [
       "0.7548270881759206"
      ]
     },
     "execution_count": 57,
     "metadata": {},
     "output_type": "execute_result"
    }
   ],
   "source": [
    "np.mean(pred_max)"
   ]
  },
  {
   "cell_type": "code",
   "execution_count": 59,
   "id": "technical-football",
   "metadata": {},
   "outputs": [
    {
     "data": {
      "text/plain": [
       "[<matplotlib.lines.Line2D at 0x1550119daf98>]"
      ]
     },
     "execution_count": 59,
     "metadata": {},
     "output_type": "execute_result"
    },
    {
     "data": {
      "image/png": "[encoded data removed]",
      "text/plain": [
       "<Figure size 432x288 with 1 Axes>"
      ]
     },
     "metadata": {
      "needs_background": "light"
     },
     "output_type": "display_data"
    }
   ],
   "source": [
    "plt.plot(np.sort(pred_max))"
   ]
  },
  {
   "cell_type": "code",
   "execution_count": 60,
   "id": "speaking-tension",
   "metadata": {},
   "outputs": [
    {
     "data": {
      "text/plain": [
       "(array([ 166.,  281.,  245.,  285.,  405.,  414.,  571.,  691.,  960.,\n",
       "        2594.]),\n",
       " array([0.08810271, 0.1792698 , 0.27043689, 0.36160398, 0.45277107,\n",
       "        0.54393816, 0.63510525, 0.72627234, 0.81743943, 0.90860652,\n",
       "        0.99977361]),\n",
       " <BarContainer object of 10 artists>)"
      ]
     },
     "execution_count": 60,
     "metadata": {},
     "output_type": "execute_result"
    },
    {
     "data": {
      "image/png": "[encoded data removed]",
      "text/plain": [
       "<Figure size 432x288 with 1 Axes>"
      ]
     },
     "metadata": {
      "needs_background": "light"
     },
     "output_type": "display_data"
    }
   ],
   "source": [
    "plt.hist(pred_max)"
   ]
  },
  {
   "cell_type": "code",
   "execution_count": 109,
   "id": "leading-scotland",
   "metadata": {},
   "outputs": [],
   "source": [
    "q_max = np.max(logit_calib(0.7806338431868136, pred_all), axis=1)"
   ]
  },
  {
   "cell_type": "code",
   "execution_count": 110,
   "id": "exposed-entry",
   "metadata": {},
   "outputs": [
    {
     "data": {
      "text/plain": [
       "[<matplotlib.lines.Line2D at 0x155011920128>]"
      ]
     },
     "execution_count": 110,
     "metadata": {},
     "output_type": "execute_result"
    },
    {
     "data": {
      "image/png": "[encoded data removed]",
      "text/plain": [
       "<Figure size 432x288 with 1 Axes>"
      ]
     },
     "metadata": {
      "needs_background": "light"
     },
     "output_type": "display_data"
    }
   ],
   "source": [
    "plt.plot(np.sort(q_max))"
   ]
  },
  {
   "cell_type": "code",
   "execution_count": 111,
   "id": "varying-prince",
   "metadata": {},
   "outputs": [
    {
     "data": {
      "text/plain": [
       "(array([  65.,  143.,  191.,  251.,  342.,  309.,  374.,  433.,  655.,\n",
       "        3849.]),\n",
       " array([0.12347696, 0.21112761, 0.29877825, 0.3864289 , 0.47407955,\n",
       "        0.56173019, 0.64938084, 0.73703148, 0.82468213, 0.91233277,\n",
       "        0.99998342]),\n",
       " <BarContainer object of 10 artists>)"
      ]
     },
     "execution_count": 111,
     "metadata": {},
     "output_type": "execute_result"
    },
    {
     "data": {
      "image/png": "[encoded data removed]",
      "text/plain": [
       "<Figure size 432x288 with 1 Axes>"
      ]
     },
     "metadata": {
      "needs_background": "light"
     },
     "output_type": "display_data"
    }
   ],
   "source": [
    "plt.hist(q_max)"
   ]
  },
  {
   "cell_type": "code",
   "execution_count": 115,
   "id": "preceding-signature",
   "metadata": {},
   "outputs": [],
   "source": [
    "q_add_max = np.max(madmom_calib(1.1939114525258065, pred_all), axis=1)"
   ]
  },
  {
   "cell_type": "code",
   "execution_count": 118,
   "id": "unexpected-auction",
   "metadata": {},
   "outputs": [
    {
     "data": {
      "text/plain": [
       "[<matplotlib.lines.Line2D at 0x155011763390>]"
      ]
     },
     "execution_count": 118,
     "metadata": {},
     "output_type": "execute_result"
    },
    {
     "data": {
      "image/png": "[encoded data removed]",
      "text/plain": [
       "<Figure size 432x288 with 1 Axes>"
      ]
     },
     "metadata": {
      "needs_background": "light"
     },
     "output_type": "display_data"
    }
   ],
   "source": [
    "plt.plot(np.sort(q_add_max))\n",
    "plt.plot(np.sort(q_max), ':')"
   ]
  },
  {
   "cell_type": "code",
   "execution_count": 117,
   "id": "infinite-spice",
   "metadata": {},
   "outputs": [
    {
     "data": {
      "text/plain": [
       "(array([  77.,  198.,  195.,  223.,  288.,  271.,  325.,  448.,  701.,\n",
       "        3886.]),\n",
       " array([0.12337058, 0.21103193, 0.29869328, 0.38635462, 0.47401597,\n",
       "        0.56167731, 0.64933866, 0.73700001, 0.82466135, 0.9123227 ,\n",
       "        0.99998405]),\n",
       " <BarContainer object of 10 artists>)"
      ]
     },
     "execution_count": 117,
     "metadata": {},
     "output_type": "execute_result"
    },
    {
     "data": {
      "image/png": "[encoded data removed]",
      "text/plain": [
       "<Figure size 432x288 with 1 Axes>"
      ]
     },
     "metadata": {
      "needs_background": "light"
     },
     "output_type": "display_data"
    }
   ],
   "source": [
    "plt.hist(q_add_max)"
   ]
  },
  {
   "cell_type": "code",
   "execution_count": 119,
   "id": "handed-reception",
   "metadata": {},
   "outputs": [],
   "source": [
    "pred_maj = pred_all[: , :12]\n",
    "pred_min = pred_all[: , 12:]"
   ]
  },
  {
   "cell_type": "code",
   "execution_count": 120,
   "id": "mechanical-murray",
   "metadata": {},
   "outputs": [],
   "source": [
    "key_maj = np.argmax(pred_maj, axis = 1)\n",
    "key_min = np.argmax(pred_min, axis=1)"
   ]
  },
  {
   "cell_type": "code",
   "execution_count": 125,
   "id": "widespread-validation",
   "metadata": {},
   "outputs": [
    {
     "data": {
      "text/plain": [
       "(array([3643.,   25.,    6., 2112.,   14.,  128.,   10.,   90.,  230.,\n",
       "           6.,  335.,   13.]),\n",
       " array([ 0.        ,  0.91666667,  1.83333333,  2.75      ,  3.66666667,\n",
       "         4.58333333,  5.5       ,  6.41666667,  7.33333333,  8.25      ,\n",
       "         9.16666667, 10.08333333, 11.        ]),\n",
       " <BarContainer object of 12 artists>)"
      ]
     },
     "execution_count": 125,
     "metadata": {},
     "output_type": "execute_result"
    },
    {
     "data": {
      "image/png": "[encoded data removed]",
      "text/plain": [
       "<Figure size 432x288 with 1 Axes>"
      ]
     },
     "metadata": {
      "needs_background": "light"
     },
     "output_type": "display_data"
    }
   ],
   "source": [
    "diff = (key_maj - key_min) % 12\n",
    "plt.hist(diff, bins=12)"
   ]
  },
  {
   "cell_type": "code",
   "execution_count": null,
   "id": "expanded-leisure",
   "metadata": {},
   "outputs": [],
   "source": []
  }
 ],
 "metadata": {
  "kernelspec": {
   "display_name": "Python 3",
   "language": "python",
   "name": "python3"
  },
  "language_info": {
   "codemirror_mode": {
    "name": "ipython",
    "version": 3
   },
   "file_extension": ".py",
   "mimetype": "text/x-python",
   "name": "python",
   "nbconvert_exporter": "python",
   "pygments_lexer": "ipython3",
   "version": "3.6.12"
  }
 },
 "nbformat": 4,
 "nbformat_minor": 5
}
