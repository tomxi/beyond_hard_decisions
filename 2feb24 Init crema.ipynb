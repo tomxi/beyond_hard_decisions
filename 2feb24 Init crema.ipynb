{
 "cells": [
  {
   "cell_type": "code",
   "execution_count": 2,
   "id": "egyptian-burke",
   "metadata": {},
   "outputs": [
    {
     "name": "stderr",
     "output_type": "stream",
     "text": [
      "Using TensorFlow backend.\n",
      "/scratch/qx244/envs/crema/lib/python3.6/site-packages/tensorflow/python/framework/dtypes.py:516: FutureWarning: Passing (type, 1) or '1type' as a synonym of type is deprecated; in a future version of numpy, it will be understood as (type, (1,)) / '(1,)type'.\n",
      "  _np_qint8 = np.dtype([(\"qint8\", np.int8, 1)])\n",
      "/scratch/qx244/envs/crema/lib/python3.6/site-packages/tensorflow/python/framework/dtypes.py:517: FutureWarning: Passing (type, 1) or '1type' as a synonym of type is deprecated; in a future version of numpy, it will be understood as (type, (1,)) / '(1,)type'.\n",
      "  _np_quint8 = np.dtype([(\"quint8\", np.uint8, 1)])\n",
      "/scratch/qx244/envs/crema/lib/python3.6/site-packages/tensorflow/python/framework/dtypes.py:518: FutureWarning: Passing (type, 1) or '1type' as a synonym of type is deprecated; in a future version of numpy, it will be understood as (type, (1,)) / '(1,)type'.\n",
      "  _np_qint16 = np.dtype([(\"qint16\", np.int16, 1)])\n",
      "/scratch/qx244/envs/crema/lib/python3.6/site-packages/tensorflow/python/framework/dtypes.py:519: FutureWarning: Passing (type, 1) or '1type' as a synonym of type is deprecated; in a future version of numpy, it will be understood as (type, (1,)) / '(1,)type'.\n",
      "  _np_quint16 = np.dtype([(\"quint16\", np.uint16, 1)])\n",
      "/scratch/qx244/envs/crema/lib/python3.6/site-packages/tensorflow/python/framework/dtypes.py:520: FutureWarning: Passing (type, 1) or '1type' as a synonym of type is deprecated; in a future version of numpy, it will be understood as (type, (1,)) / '(1,)type'.\n",
      "  _np_qint32 = np.dtype([(\"qint32\", np.int32, 1)])\n",
      "/scratch/qx244/envs/crema/lib/python3.6/site-packages/tensorflow/python/framework/dtypes.py:525: FutureWarning: Passing (type, 1) or '1type' as a synonym of type is deprecated; in a future version of numpy, it will be understood as (type, (1,)) / '(1,)type'.\n",
      "  np_resource = np.dtype([(\"resource\", np.ubyte, 1)])\n",
      "/scratch/qx244/envs/crema/lib/python3.6/site-packages/tensorboard/compat/tensorflow_stub/dtypes.py:541: FutureWarning: Passing (type, 1) or '1type' as a synonym of type is deprecated; in a future version of numpy, it will be understood as (type, (1,)) / '(1,)type'.\n",
      "  _np_qint8 = np.dtype([(\"qint8\", np.int8, 1)])\n",
      "/scratch/qx244/envs/crema/lib/python3.6/site-packages/tensorboard/compat/tensorflow_stub/dtypes.py:542: FutureWarning: Passing (type, 1) or '1type' as a synonym of type is deprecated; in a future version of numpy, it will be understood as (type, (1,)) / '(1,)type'.\n",
      "  _np_quint8 = np.dtype([(\"quint8\", np.uint8, 1)])\n",
      "/scratch/qx244/envs/crema/lib/python3.6/site-packages/tensorboard/compat/tensorflow_stub/dtypes.py:543: FutureWarning: Passing (type, 1) or '1type' as a synonym of type is deprecated; in a future version of numpy, it will be understood as (type, (1,)) / '(1,)type'.\n",
      "  _np_qint16 = np.dtype([(\"qint16\", np.int16, 1)])\n",
      "/scratch/qx244/envs/crema/lib/python3.6/site-packages/tensorboard/compat/tensorflow_stub/dtypes.py:544: FutureWarning: Passing (type, 1) or '1type' as a synonym of type is deprecated; in a future version of numpy, it will be understood as (type, (1,)) / '(1,)type'.\n",
      "  _np_quint16 = np.dtype([(\"quint16\", np.uint16, 1)])\n",
      "/scratch/qx244/envs/crema/lib/python3.6/site-packages/tensorboard/compat/tensorflow_stub/dtypes.py:545: FutureWarning: Passing (type, 1) or '1type' as a synonym of type is deprecated; in a future version of numpy, it will be understood as (type, (1,)) / '(1,)type'.\n",
      "  _np_qint32 = np.dtype([(\"qint32\", np.int32, 1)])\n",
      "/scratch/qx244/envs/crema/lib/python3.6/site-packages/tensorboard/compat/tensorflow_stub/dtypes.py:550: FutureWarning: Passing (type, 1) or '1type' as a synonym of type is deprecated; in a future version of numpy, it will be understood as (type, (1,)) / '(1,)type'.\n",
      "  np_resource = np.dtype([(\"resource\", np.ubyte, 1)])\n"
     ]
    }
   ],
   "source": [
    "import librosa\n",
    "import crema"
   ]
  },
  {
   "cell_type": "code",
   "execution_count": 4,
   "id": "completed-strand",
   "metadata": {},
   "outputs": [
    {
     "data": {
      "text/plain": [
       "'0.2.0'"
      ]
     },
     "execution_count": 4,
     "metadata": {},
     "output_type": "execute_result"
    }
   ],
   "source": [
    "crema.__version__"
   ]
  },
  {
   "cell_type": "code",
   "execution_count": 5,
   "id": "minimal-tonight",
   "metadata": {},
   "outputs": [
    {
     "data": {
      "text/plain": [
       "'0.8.0'"
      ]
     },
     "execution_count": 5,
     "metadata": {},
     "output_type": "execute_result"
    }
   ],
   "source": [
    "librosa.__version__"
   ]
  },
  {
   "cell_type": "code",
   "execution_count": 7,
   "id": "native-basket",
   "metadata": {},
   "outputs": [
    {
     "name": "stderr",
     "output_type": "stream",
     "text": [
      "Downloading file 'Kevin_MacLeod_-_Vibe_Ace.hq.ogg' from 'https://librosa.org/data/audio/Kevin_MacLeod_-_Vibe_Ace.hq.ogg' to '/home/qx244/.cache/librosa'.\n"
     ]
    },
    {
     "data": {
      "text/plain": [
       "'/home/qx244/.cache/librosa/Kevin_MacLeod_-_Vibe_Ace.hq.ogg'"
      ]
     },
     "execution_count": 7,
     "metadata": {},
     "output_type": "execute_result"
    }
   ],
   "source": [
    "librosa.util.example_audio_file()"
   ]
  },
  {
   "cell_type": "code",
   "execution_count": 9,
   "id": "sunset-viking",
   "metadata": {},
   "outputs": [],
   "source": [
    "import crema.analyze as analyze"
   ]
  },
  {
   "cell_type": "code",
   "execution_count": 10,
   "id": "sunrise-boxing",
   "metadata": {},
   "outputs": [
    {
     "name": "stdout",
     "output_type": "stream",
     "text": [
      "WARNING:tensorflow:From /scratch/qx244/envs/crema/lib/python3.6/site-packages/keras/backend/tensorflow_backend.py:422: The name tf.global_variables is deprecated. Please use tf.compat.v1.global_variables instead.\n",
      "\n"
     ]
    },
    {
     "data": {
      "text/html": [
       "<div class=\"panel-group\"><div class=\"panel panel-default\"><div class=\"panel-heading\" role=\"tab\" id=\"heading-22964865439448-1\">\n",
       "                            <button\n",
       "                                type=\"button\"\n",
       "                                data-toggle=\"collapse\"\n",
       "                                data-parent=\"#accordion\"\n",
       "                                href=\"#22964865439448-1\"\n",
       "                                aria-expanded=\"false\"\n",
       "                                class=\"collapsed btn btn-block btn-primary\"\n",
       "                                aria-controls=\"22964865439448-1\">\n",
       "                                File Metadata </button></div><div class=\"panel-collapse collapse\"\n",
       "                                    id=\"22964865439448-1\"\n",
       "                                    role=\"tabpanel\"\n",
       "                                    aria-labelledby=\"hading22964865439448-1\">\n",
       "                                    <div class=\"panel-body\">\n",
       "                                        <div class=\"panel-group\"><div class=\"panel panel-danger\"><div class=\"panel-heading\">\n",
       "                                Artist&nbsp;\n",
       "                                <span class=\"pull-right\"><em></em></span>\n",
       "                           </div></div><div class=\"panel panel-danger\"><div class=\"panel-heading\">\n",
       "                                Title&nbsp;\n",
       "                                <span class=\"pull-right\"><em></em></span>\n",
       "                           </div></div><div class=\"panel panel-danger\"><div class=\"panel-heading\">\n",
       "                                Release&nbsp;\n",
       "                                <span class=\"pull-right\"><em></em></span>\n",
       "                           </div></div><div class=\"panel panel-default\"><div class=\"panel-heading\">\n",
       "                                Duration (s)&nbsp;\n",
       "                                <span class=\"pull-right\"><em>61.45886621315193</em></span>\n",
       "                           </div></div><div class=\"panel panel-default\"><div class=\"panel-heading\">\n",
       "                                JAMS version&nbsp;\n",
       "                                <span class=\"pull-right\"><em>0.3.4</em></span>\n",
       "                           </div></div><div class=\"panel panel-danger\"><div class=\"panel-heading\">\n",
       "                                Identifiers&nbsp;\n",
       "                                <span class=\"pull-right\"><em></em></span>\n",
       "                           </div></div></div>\n",
       "                                    </div>\n",
       "                                </div></div><div class=\"panel panel-default\"><div class=\"panel-heading\" role=\"tab\" id=\"heading-22964864930024-4\">\n",
       "                            <button\n",
       "                                type=\"button\"\n",
       "                                data-toggle=\"collapse\"\n",
       "                                data-parent=\"#accordion\"\n",
       "                                href=\"#22964864930024-4\"\n",
       "                                aria-expanded=\"false\"\n",
       "                                class=\"collapsed btn btn-block btn-primary\"\n",
       "                                aria-controls=\"22964864930024-4\">\n",
       "                                Annotations<span class=\"badge pull-right\">\n",
       "                                    1\n",
       "                               </span> </button></div><div class=\"panel-collapse collapse\"\n",
       "                                    id=\"22964864930024-4\"\n",
       "                                    role=\"tabpanel\"\n",
       "                                    aria-labelledby=\"hading22964864930024-4\">\n",
       "                                    <div class=\"panel-body\">\n",
       "                                        <div class=\"panel-group\">  <div class=\"panel panel-default\">\n",
       "                        <div class=\"panel-heading\" role=\"tab\" id=\"heading-22964864717320-2\">\n",
       "                            <button\n",
       "                                type=\"button\"\n",
       "                                data-toggle=\"collapse\"\n",
       "                                data-parent=\"#accordion\"\n",
       "                                href=\"#22964864717320-2\"\n",
       "                                aria-expanded=\"false\"\n",
       "                                class=\"collapsed btn btn-info btn-block\"\n",
       "                                aria-controls=\"22964864717320-2\">\n",
       "                                chord\n",
       "                                <span class=\"badge pull-right\">11</span>\n",
       "                            </button>\n",
       "                        </div>     <div id=\"22964864717320-2\" class=\"panel-collapse collapse\"\n",
       "                             role=\"tabpanel\" aria-labelledby=\"heading-22964864717320-2\">\n",
       "                            <div class=\"panel-body\"><div class=\"pull-right\">\n",
       "                        <div class=\"panel-group\"><div class=\"panel panel-danger\"><div class=\"panel-heading\">\n",
       "                                Annotator&nbsp;\n",
       "                                <span class=\"pull-right\"><em></em></span>\n",
       "                           </div></div><div class=\"panel panel-default\"><div class=\"panel-heading\">\n",
       "                                Version&nbsp;\n",
       "                                <span class=\"pull-right\"><em>a4c7d57.0</em></span>\n",
       "                           </div></div><div class=\"panel panel-danger\"><div class=\"panel-heading\">\n",
       "                                Corpus&nbsp;\n",
       "                                <span class=\"pull-right\"><em></em></span>\n",
       "                           </div></div><div class=\"panel panel-default\"><div class=\"panel-heading\" role=\"tab\" id=\"heading-22964606655624-3\">\n",
       "                            <button\n",
       "                                type=\"button\"\n",
       "                                data-toggle=\"collapse\"\n",
       "                                data-parent=\"#accordion\"\n",
       "                                href=\"#22964606655624-3\"\n",
       "                                aria-expanded=\"false\"\n",
       "                                class=\"collapsed btn btn-block btn-primary\"\n",
       "                                aria-controls=\"22964606655624-3\">\n",
       "                                Curator </button></div><div class=\"panel-collapse collapse\"\n",
       "                                    id=\"22964606655624-3\"\n",
       "                                    role=\"tabpanel\"\n",
       "                                    aria-labelledby=\"hading22964606655624-3\">\n",
       "                                    <div class=\"panel-body\">\n",
       "                                        <div class=\"panel-group\"><div class=\"panel panel-danger\"><div class=\"panel-heading\">\n",
       "                                Name&nbsp;\n",
       "                                <span class=\"pull-right\"><em></em></span>\n",
       "                           </div></div><div class=\"panel panel-danger\"><div class=\"panel-heading\">\n",
       "                                Email&nbsp;\n",
       "                                <span class=\"pull-right\"><em></em></span>\n",
       "                           </div></div></div>\n",
       "                                    </div>\n",
       "                                </div></div><div class=\"panel panel-default\"><div class=\"panel-heading\">\n",
       "                                Annotation tools&nbsp;\n",
       "                                <span class=\"pull-right\"><em>CREMA 0.2.0</em></span>\n",
       "                           </div></div><div class=\"panel panel-danger\"><div class=\"panel-heading\">\n",
       "                                Annotation rules&nbsp;\n",
       "                                <span class=\"pull-right\"><em></em></span>\n",
       "                           </div></div><div class=\"panel panel-default\"><div class=\"panel-heading\">\n",
       "                                Data source&nbsp;\n",
       "                                <span class=\"pull-right\"><em>program</em></span>\n",
       "                           </div></div><div class=\"panel panel-danger\"><div class=\"panel-heading\">\n",
       "                                Validation&nbsp;\n",
       "                                <span class=\"pull-right\"><em></em></span>\n",
       "                           </div></div></div>\n",
       "                    </div><div class=\"pull-right clearfix\">\n",
       "                        \n",
       "                    </div><div><table border=\"1\" class=\"dataframe\">\n",
       "                    <thead>\n",
       "                        <tr style=\"text-align: right;\">\n",
       "                            <th></th>\n",
       "                            <th>time</th>\n",
       "                            <th>duration</th>\n",
       "                            <th>value</th>\n",
       "                            <th>confidence</th>\n",
       "                        </tr>\n",
       "                    </thead><tbody><tr>\n",
       "                            <th>0</th>\n",
       "                            <td>0.000</td>\n",
       "                            <td>7.245</td>\n",
       "                            <td>E:maj</td>\n",
       "                            <td>0.42077916860580444</td>\n",
       "                        </tr><tr>\n",
       "                            <th>1</th>\n",
       "                            <td>7.245</td>\n",
       "                            <td>4.087</td>\n",
       "                            <td>E:sus4</td>\n",
       "                            <td>0.5675360560417175</td>\n",
       "                        </tr><tr>\n",
       "                            <th>2</th>\n",
       "                            <td>11.331</td>\n",
       "                            <td>17.183</td>\n",
       "                            <td>E:7</td>\n",
       "                            <td>0.36109691858291626</td>\n",
       "                        </tr><tr>\n",
       "                            <th>3</th>\n",
       "                            <td>28.514</td>\n",
       "                            <td>2.879</td>\n",
       "                            <td>E:maj</td>\n",
       "                            <td>0.45212361216545105</td>\n",
       "                        </tr><tr>\n",
       "                            <th>4</th>\n",
       "                            <td>31.393</td>\n",
       "                            <td>5.480</td>\n",
       "                            <td>E:7</td>\n",
       "                            <td>0.49187278747558594</td>\n",
       "                        </tr><tr>\n",
       "                            <th>5</th>\n",
       "                            <td>36.873</td>\n",
       "                            <td>4.644</td>\n",
       "                            <td>E:maj</td>\n",
       "                            <td>0.5657342076301575</td>\n",
       "                        </tr><tr>\n",
       "                            <th>6</th>\n",
       "                            <td>41.517</td>\n",
       "                            <td>1.672</td>\n",
       "                            <td>E:7</td>\n",
       "                            <td>0.5862656235694885</td>\n",
       "                        </tr><tr>\n",
       "                            <th>7</th>\n",
       "                            <td>43.189</td>\n",
       "                            <td>3.065</td>\n",
       "                            <td>A:maj</td>\n",
       "                            <td>0.2617444396018982</td>\n",
       "                        </tr><tr>\n",
       "                            <th>8</th>\n",
       "                            <td>46.254</td>\n",
       "                            <td>9.567</td>\n",
       "                            <td>E:7</td>\n",
       "                            <td>0.33527103066444397</td>\n",
       "                        </tr><tr>\n",
       "                            <th>9</th>\n",
       "                            <td>55.821</td>\n",
       "                            <td>4.365</td>\n",
       "                            <td>E:maj</td>\n",
       "                            <td>0.2792632579803467</td>\n",
       "                        </tr><tr>\n",
       "                            <th>10</th>\n",
       "                            <td>60.186</td>\n",
       "                            <td>1.300</td>\n",
       "                            <td>N</td>\n",
       "                            <td>0.6303412914276123</td>\n",
       "                        </tr></tbody></table></div></div></div></div></div>\n",
       "                                    </div>\n",
       "                                </div></div><div class=\"panel panel-danger\"><div class=\"panel-heading\">\n",
       "                                Sandbox&nbsp;\n",
       "                                <span class=\"pull-right\"><em></em></span>\n",
       "                           </div></div></div>"
      ],
      "text/plain": [
       "<JAMS(file_metadata=<FileMetadata(...)>,\n",
       "      annotations=[1 annotation],\n",
       "      sandbox=<Sandbox(...)>)>"
      ]
     },
     "execution_count": 10,
     "metadata": {},
     "output_type": "execute_result"
    }
   ],
   "source": [
    "analyze.analyze(librosa.util.example_audio_file())"
   ]
  },
  {
   "cell_type": "code",
   "execution_count": 11,
   "id": "durable-collection",
   "metadata": {},
   "outputs": [],
   "source": [
    "model = crema.models.chord.ChordModel()"
   ]
  },
  {
   "cell_type": "code",
   "execution_count": 14,
   "id": "obvious-tackle",
   "metadata": {},
   "outputs": [],
   "source": [
    "output = model.outputs(filename=librosa.util.example_audio_file())"
   ]
  },
  {
   "cell_type": "code",
   "execution_count": 18,
   "id": "seventh-services",
   "metadata": {},
   "outputs": [
    {
     "data": {
      "text/plain": [
       "(661, 12)"
      ]
     },
     "execution_count": 18,
     "metadata": {},
     "output_type": "execute_result"
    }
   ],
   "source": [
    "output['chord_pitch'].shape"
   ]
  },
  {
   "cell_type": "code",
   "execution_count": 24,
   "id": "decimal-least",
   "metadata": {},
   "outputs": [
    {
     "data": {
      "text/plain": [
       "(661, 13)"
      ]
     },
     "execution_count": 24,
     "metadata": {},
     "output_type": "execute_result"
    }
   ],
   "source": [
    "output['chord_root'].shape"
   ]
  },
  {
   "cell_type": "code",
   "execution_count": 25,
   "id": "above-tanzania",
   "metadata": {},
   "outputs": [],
   "source": [
    "import numpy as np"
   ]
  },
  {
   "cell_type": "code",
   "execution_count": 26,
   "id": "reported-warner",
   "metadata": {},
   "outputs": [
    {
     "data": {
      "text/plain": [
       "1.0"
      ]
     },
     "execution_count": 26,
     "metadata": {},
     "output_type": "execute_result"
    }
   ],
   "source": [
    "np.sum(output['chord_root'][3,:])"
   ]
  },
  {
   "cell_type": "code",
   "execution_count": null,
   "id": "boxed-practitioner",
   "metadata": {},
   "outputs": [],
   "source": [
    "model.predict()"
   ]
  }
 ],
 "metadata": {
  "kernelspec": {
   "display_name": "Python 3",
   "language": "python",
   "name": "python3"
  },
  "language_info": {
   "codemirror_mode": {
    "name": "ipython",
    "version": 3
   },
   "file_extension": ".py",
   "mimetype": "text/x-python",
   "name": "python",
   "nbconvert_exporter": "python",
   "pygments_lexer": "ipython3",
   "version": "3.6.12"
  }
 },
 "nbformat": 4,
 "nbformat_minor": 5
}
