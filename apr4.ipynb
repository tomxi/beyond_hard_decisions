{
 "metadata": {
  "orig_nbformat": 2,
  "kernelspec": {
   "name": "python3",
   "display_name": "Python 3",
   "language": "python"
  },
  "metadata": {
   "interpreter": {
    "hash": "50f8ec3332b78ef168ba407b041384b072f212226432398af13c0cbb9058f983"
   }
  }
 },
 "nbformat": 4,
 "nbformat_minor": 2,
 "cells": [
  {
   "cell_type": "code",
   "execution_count": 1,
   "metadata": {},
   "outputs": [],
   "source": [
    "%load_ext autoreload\n",
    "%autoreload 2"
   ]
  },
  {
   "cell_type": "code",
   "execution_count": 29,
   "metadata": {},
   "outputs": [],
   "source": [
    "import util as ut\n",
    "import numpy as np\n",
    "import os\n",
    "import glob"
   ]
  },
  {
   "cell_type": "code",
   "execution_count": 3,
   "metadata": {},
   "outputs": [],
   "source": [
    "key_set = ut.KeysTestSet()"
   ]
  },
  {
   "cell_type": "code",
   "execution_count": 18,
   "metadata": {},
   "outputs": [
    {
     "output_type": "stream",
     "name": "stdout",
     "text": [
      "/scratch/qx244/data/gskey\n"
     ]
    }
   ],
   "source": [
    "print(key_set.data_home)"
   ]
  },
  {
   "cell_type": "code",
   "execution_count": 64,
   "metadata": {},
   "outputs": [],
   "source": [
    "aug_path = os.path.join('/scratch/qx244/data/gskey', 'augmentation')"
   ]
  },
  {
   "cell_type": "code",
   "execution_count": 27,
   "metadata": {},
   "outputs": [
    {
     "output_type": "execute_result",
     "data": {
      "text/plain": [
       "True"
      ]
     },
     "metadata": {},
     "execution_count": 27
    }
   ],
   "source": [
    "os.path.exists(dir_path)"
   ]
  },
  {
   "cell_type": "code",
   "execution_count": 34,
   "metadata": {},
   "outputs": [
    {
     "output_type": "execute_result",
     "data": {
      "text/plain": [
       "2"
      ]
     },
     "metadata": {},
     "execution_count": 34
    }
   ],
   "source": [
    "np.random.randint(12)"
   ]
  },
  {
   "cell_type": "code",
   "execution_count": 65,
   "metadata": {},
   "outputs": [],
   "source": [
    "worker = np.random.randint(12)\n",
    "file_list = glob.glob(os.path.join(aug_path, '*.{:02d}.ogg'.format(worker)))"
   ]
  },
  {
   "cell_type": "code",
   "execution_count": 66,
   "metadata": {},
   "outputs": [
    {
     "output_type": "execute_result",
     "data": {
      "text/plain": [
       "551"
      ]
     },
     "metadata": {},
     "execution_count": 66
    }
   ],
   "source": [
    "len(file_list)"
   ]
  },
  {
   "cell_type": "code",
   "execution_count": 58,
   "metadata": {},
   "outputs": [],
   "source": [
    "import madmom\n",
    "from tqdm import tqdm"
   ]
  },
  {
   "cell_type": "code",
   "execution_count": 51,
   "metadata": {},
   "outputs": [],
   "source": [
    "key_machine = madmom.features.key.CNNKeyRecognitionProcessor()\n",
    "key_reader = madmom.features.key.key_prediction_to_label"
   ]
  },
  {
   "cell_type": "code",
   "execution_count": 61,
   "metadata": {},
   "outputs": [
    {
     "output_type": "stream",
     "name": "stderr",
     "text": [
      "  0%|          | 0/551 [00:00<?, ?it/s]\n"
     ]
    }
   ],
   "source": [
    "for f in tqdm(file_list):\n",
    "    output_path = os.path.splitext(f)[0] + '.npy'\n",
    "    if os.path.exists(output_path):\n",
    "        pass\n",
    "    else:\n",
    "        output = key_machine(f)\n",
    "        # print(output)\n",
    "        with open(output_path, 'wb') as o:\n",
    "            np.save(o, output)\n",
    "    break"
   ]
  },
  {
   "cell_type": "code",
   "execution_count": 62,
   "metadata": {},
   "outputs": [],
   "source": [
    "with open(output_path, 'rb') as h:\n",
    "    x = np.load(h)"
   ]
  },
  {
   "cell_type": "code",
   "execution_count": 63,
   "metadata": {},
   "outputs": [
    {
     "output_type": "execute_result",
     "data": {
      "text/plain": [
       "array([[1.66113873e-03, 6.13242993e-04, 7.18007540e-02, 2.31777599e-03,\n",
       "        2.98546317e-04, 1.51389846e-03, 9.08889811e-04, 8.79446061e-01,\n",
       "        4.43166162e-04, 7.28847832e-04, 1.14933807e-03, 1.10595079e-03,\n",
       "        5.98296133e-04, 3.81119192e-04, 6.58367520e-03, 3.65762324e-04,\n",
       "        1.80827740e-03, 9.96140922e-04, 4.04156800e-04, 2.46087496e-02,\n",
       "        2.69447185e-04, 1.11668712e-03, 3.20547904e-04, 5.59529963e-04]])"
      ]
     },
     "metadata": {},
     "execution_count": 63
    }
   ],
   "source": [
    "x"
   ]
  },
  {
   "cell_type": "code",
   "execution_count": null,
   "metadata": {},
   "outputs": [],
   "source": []
  }
 ]
}