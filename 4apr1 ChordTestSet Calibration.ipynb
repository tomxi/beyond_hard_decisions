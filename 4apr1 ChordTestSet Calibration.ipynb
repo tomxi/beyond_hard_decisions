{
 "cells": [
  {
   "cell_type": "markdown",
   "id": "hispanic-devon",
   "metadata": {},
   "source": [
    "## Goal is to calibrate entire test set"
   ]
  },
  {
   "cell_type": "code",
   "execution_count": 3,
   "id": "overhead-diagnosis",
   "metadata": {},
   "outputs": [],
   "source": [
    "%load_ext autoreload\n",
    "%autoreload 2"
   ]
  },
  {
   "cell_type": "code",
   "execution_count": 4,
   "id": "unsigned-posting",
   "metadata": {},
   "outputs": [],
   "source": [
    "import util as ut\n",
    "import numpy as np"
   ]
  },
  {
   "cell_type": "markdown",
   "id": "challenging-cassette",
   "metadata": {},
   "source": [
    "### Get the list of test files for calibration"
   ]
  },
  {
   "cell_type": "code",
   "execution_count": 5,
   "id": "massive-philippines",
   "metadata": {},
   "outputs": [],
   "source": [
    "test_set = ut.ChordsTestSet()"
   ]
  },
  {
   "cell_type": "code",
   "execution_count": 27,
   "id": "natural-caribbean",
   "metadata": {},
   "outputs": [
    {
     "data": {
      "text/plain": [
       "'/scratch/qx244/data/eric_chords_21sp/audio/TRAIIEF149E3861F6C.mp3'"
      ]
     },
     "execution_count": 27,
     "metadata": {},
     "output_type": "execute_result"
    }
   ],
   "source": [
    "test_set.audio_fp(0)"
   ]
  },
  {
   "cell_type": "code",
   "execution_count": 28,
   "id": "undefined-waters",
   "metadata": {},
   "outputs": [
    {
     "data": {
      "text/plain": [
       "'/scratch/qx244/data/eric_chords_21sp/references/TRAIIEF149E3861F6C.jams'"
      ]
     },
     "execution_count": 28,
     "metadata": {},
     "output_type": "execute_result"
    }
   ],
   "source": [
    "test_set.ref_fp(0)"
   ]
  },
  {
   "cell_type": "code",
   "execution_count": 5,
   "id": "endless-shoot",
   "metadata": {
    "scrolled": true
   },
   "outputs": [
    {
     "data": {
      "text/plain": [
       "'/scratch/qx244/data/eric_chords_21sp/crema_out/TRAIIEF149E3861F6C.npz'"
      ]
     },
     "execution_count": 5,
     "metadata": {},
     "output_type": "execute_result"
    }
   ],
   "source": [
    "test_set.npz_fp(0)"
   ]
  },
  {
   "cell_type": "markdown",
   "id": "crazy-shoulder",
   "metadata": {},
   "source": [
    "### process each file into soft-max output and label pair"
   ]
  },
  {
   "cell_type": "code",
   "execution_count": null,
   "id": "individual-stroke",
   "metadata": {},
   "outputs": [],
   "source": [
    "import warnings\n",
    "warnings.filterwarnings('ignore')\n",
    "\n",
    "import process as prs\n",
    "from tqdm import tqdm"
   ]
  },
  {
   "cell_type": "code",
   "execution_count": 6,
   "id": "stupid-bandwidth",
   "metadata": {
    "scrolled": true
   },
   "outputs": [
    {
     "name": "stderr",
     "output_type": "stream",
     "text": [
      "\r",
      "  0%|          | 0/244 [00:00<?, ?it/s]"
     ]
    },
    {
     "name": "stdout",
     "output_type": "stream",
     "text": [
      "WARNING:tensorflow:From /scratch/qx244/envs/crema/lib/python3.6/site-packages/keras/backend/tensorflow_backend.py:422: The name tf.global_variables is deprecated. Please use tf.compat.v1.global_variables instead.\n",
      "\n"
     ]
    },
    {
     "name": "stderr",
     "output_type": "stream",
     "text": [
      "100%|██████████| 244/244 [2:07:39<00:00, 31.39s/it]\n"
     ]
    }
   ],
   "source": [
    "for i in tqdm(range(len(test_set))):\n",
    "    y, x = prs.chord_file_processor(test_set.audio_fp(i), test_set.ref_fp(i))\n",
    "    with open(test_set.npz_fp(i), 'wb') as f:\n",
    "        np.savez(f, y=y, x=x)"
   ]
  },
  {
   "cell_type": "markdown",
   "id": "advanced-glenn",
   "metadata": {},
   "source": [
    "### Calibrate and analyze result"
   ]
  },
  {
   "cell_type": "code",
   "execution_count": 60,
   "id": "critical-purchase",
   "metadata": {},
   "outputs": [],
   "source": [
    "from scipy.optimize import minimize_scalar"
   ]
  },
  {
   "cell_type": "code",
   "execution_count": 116,
   "id": "entitled-printer",
   "metadata": {},
   "outputs": [],
   "source": [
    "import matplotlib.pyplot as plt"
   ]
  },
  {
   "cell_type": "code",
   "execution_count": 6,
   "id": "vietnamese-government",
   "metadata": {},
   "outputs": [
    {
     "data": {
      "text/plain": [
       "'/scratch/qx244/data/eric_chords_21sp/crema_out/TRAIIEF149E3861F6C.npz'"
      ]
     },
     "execution_count": 6,
     "metadata": {},
     "output_type": "execute_result"
    }
   ],
   "source": [
    "test_set = ut.ChordsTestSet()\n",
    "test_set.npz_fp(0)"
   ]
  },
  {
   "cell_type": "code",
   "execution_count": 118,
   "id": "polish-staff",
   "metadata": {},
   "outputs": [
    {
     "name": "stderr",
     "output_type": "stream",
     "text": [
      "100%|██████████| 244/244 [00:01<00:00, 193.98it/s]\n"
     ]
    }
   ],
   "source": [
    "## Open all the saved npz files (crema outputs) and save them in 2 big arrays x_all and y_all\n",
    "\n",
    "l = len(test_set)\n",
    "\n",
    "first_iter = True\n",
    "for i in tqdm(range(l)):\n",
    "    data = np.load(test_set.npz_fp(i))\n",
    "    if first_iter:\n",
    "        first_iter = False\n",
    "        x_all = data['x'][:len(y_all)]\n",
    "        y_all = data['y'][:len(x_all)] if data['y'].ndim == 1 else data['y'][0, :len(x_all)]\n",
    "    else:\n",
    "        new_y = data['y'][:len(data['x'])] if data['y'].ndim == 1 else data['y'][0, :len(data['x'])]\n",
    " \n",
    "        x_all = np.concatenate((x_all, data['x'][:len(new_y), :]), axis=0)\n",
    "        y_all = np.concatenate((y_all, new_y), axis=0)"
   ]
  },
  {
   "cell_type": "code",
   "execution_count": 121,
   "id": "chemical-credit",
   "metadata": {},
   "outputs": [
    {
     "data": {
      "text/plain": [
       "(580453, 13)"
      ]
     },
     "execution_count": 121,
     "metadata": {},
     "output_type": "execute_result"
    }
   ],
   "source": [
    "x_all.shape"
   ]
  },
  {
   "cell_type": "code",
   "execution_count": 122,
   "id": "subtle-franchise",
   "metadata": {},
   "outputs": [
    {
     "data": {
      "text/plain": [
       "(580453,)"
      ]
     },
     "execution_count": 122,
     "metadata": {},
     "output_type": "execute_result"
    }
   ],
   "source": [
    "y_all.shape"
   ]
  },
  {
   "cell_type": "code",
   "execution_count": 123,
   "id": "controlling-shell",
   "metadata": {},
   "outputs": [],
   "source": [
    "res = minimize_scalar(ut.better_track_nll, \n",
    "                      args=(y_all, x_all),\n",
    "                      bounds=(0, 1),\n",
    "                      method='bounded')"
   ]
  },
  {
   "cell_type": "code",
   "execution_count": 127,
   "id": "demanding-eagle",
   "metadata": {},
   "outputs": [
    {
     "data": {
      "text/plain": [
       "0.7956625610036311"
      ]
     },
     "execution_count": 127,
     "metadata": {},
     "output_type": "execute_result"
    }
   ],
   "source": [
    "res.x"
   ]
  },
  {
   "cell_type": "code",
   "execution_count": 125,
   "id": "beautiful-examination",
   "metadata": {},
   "outputs": [
    {
     "data": {
      "text/plain": [
       "[<matplotlib.lines.Line2D at 0x15153902a6a0>]"
      ]
     },
     "execution_count": 125,
     "metadata": {},
     "output_type": "execute_result"
    },
    {
     "data": {
      "image/png": "[encoded data removed]",
      "text/plain": [
       "<Figure size 432x288 with 1 Axes>"
      ]
     },
     "metadata": {
      "needs_background": "light"
     },
     "output_type": "display_data"
    }
   ],
   "source": [
    "plt.plot(np.arange(0.5,1.05,0.01),\n",
    "         [ut.better_track_nll(b, y_all, x_all) \n",
    "          for b in np.arange(0.5,1.05,0.01)])"
   ]
  },
  {
   "cell_type": "code",
   "execution_count": 126,
   "id": "satisfactory-reference",
   "metadata": {},
   "outputs": [],
   "source": [
    "## ECE Graphs:"
   ]
  },
  {
   "cell_type": "code",
   "execution_count": 128,
   "id": "liked-creator",
   "metadata": {},
   "outputs": [],
   "source": [
    "x_all_calibrated = ut.better_calibrate(res.x, x_all)"
   ]
  },
  {
   "cell_type": "code",
   "execution_count": 145,
   "id": "minute-decrease",
   "metadata": {},
   "outputs": [],
   "source": [
    "original = ut.CalibrationBenchmark(x_all, y_all, m=15)\n",
    "calibrated = ut.CalibrationBenchmark(x_all_calibrated, y_all, m=15)"
   ]
  },
  {
   "cell_type": "code",
   "execution_count": 155,
   "id": "declared-netherlands",
   "metadata": {
    "scrolled": true
   },
   "outputs": [
    {
     "data": {
      "image/png": "[encoded data removed]",
      "text/plain": [
       "<Figure size 432x288 with 1 Axes>"
      ]
     },
     "metadata": {
      "needs_background": "light"
     },
     "output_type": "display_data"
    }
   ],
   "source": [
    "plt.plot(np.linspace(0, 100, num=15, endpoint=True), np.linspace(0, 1, num=15, endpoint=True), 'k')\n",
    "plt.plot(np.linspace(0, 100, num=15, endpoint=True), original.bin_accuracy(), ':')\n",
    "plt.plot(np.linspace(0, 100, num=15, endpoint=True), calibrated.bin_accuracy(), '--')\n",
    "plt.show()"
   ]
  },
  {
   "cell_type": "code",
   "execution_count": 153,
   "id": "grand-pantyhose",
   "metadata": {},
   "outputs": [
    {
     "data": {
      "text/plain": [
       "'3.3.4'"
      ]
     },
     "execution_count": 153,
     "metadata": {},
     "output_type": "execute_result"
    }
   ],
   "source": [
    "import matplotlib\n",
    "matplotlib.__version__"
   ]
  },
  {
   "cell_type": "code",
   "execution_count": 147,
   "id": "historical-aside",
   "metadata": {},
   "outputs": [
    {
     "data": {
      "text/plain": [
       "0.050725811038472415"
      ]
     },
     "execution_count": 147,
     "metadata": {},
     "output_type": "execute_result"
    }
   ],
   "source": [
    "original.ece()"
   ]
  },
  {
   "cell_type": "code",
   "execution_count": 148,
   "id": "breathing-macedonia",
   "metadata": {},
   "outputs": [
    {
     "data": {
      "text/plain": [
       "0.00521207178114321"
      ]
     },
     "execution_count": 148,
     "metadata": {},
     "output_type": "execute_result"
    }
   ],
   "source": [
    "calibrated.ece()"
   ]
  },
  {
   "cell_type": "markdown",
   "id": "intensive-there",
   "metadata": {},
   "source": [
    "## Next up, is working with Madmom"
   ]
  },
  {
   "cell_type": "code",
   "execution_count": 6,
   "id": "coastal-farmer",
   "metadata": {},
   "outputs": [
    {
     "ename": "NameError",
     "evalue": "name 'jams' is not defined",
     "output_type": "error",
     "traceback": [
      "\u001b[0;31m---------------------------------------------------------------------------\u001b[0m",
      "\u001b[0;31mNameError\u001b[0m                                 Traceback (most recent call last)",
      "\u001b[0;32m<ipython-input-6-7eaf04ea896e>\u001b[0m in \u001b[0;36m<module>\u001b[0;34m()\u001b[0m\n\u001b[0;32m----> 1\u001b[0;31m \u001b[0mjams\u001b[0m\u001b[0;34m.\u001b[0m\u001b[0mload\u001b[0m\u001b[0;34m(\u001b[0m\u001b[0mtest_set\u001b[0m\u001b[0;34m.\u001b[0m\u001b[0mref_fp\u001b[0m\u001b[0;34m(\u001b[0m\u001b[0;36m0\u001b[0m\u001b[0;34m)\u001b[0m\u001b[0;34m)\u001b[0m\u001b[0;34m\u001b[0m\u001b[0;34m\u001b[0m\u001b[0m\n\u001b[0m",
      "\u001b[0;31mNameError\u001b[0m: name 'jams' is not defined"
     ]
    }
   ],
   "source": [
    "jams.load(test_set.ref_fp(0))"
   ]
  },
  {
   "cell_type": "code",
   "execution_count": null,
   "id": "defensive-murray",
   "metadata": {},
   "outputs": [],
   "source": []
  }
 ],
 "metadata": {
  "kernelspec": {
   "display_name": "Python 3",
   "language": "python",
   "name": "python3"
  },
  "language_info": {
   "codemirror_mode": {
    "name": "ipython",
    "version": 3
   },
   "file_extension": ".py",
   "mimetype": "text/x-python",
   "name": "python",
   "nbconvert_exporter": "python",
   "pygments_lexer": "ipython3",
   "version": "3.6.12"
  }
 },
 "nbformat": 4,
 "nbformat_minor": 5
}
