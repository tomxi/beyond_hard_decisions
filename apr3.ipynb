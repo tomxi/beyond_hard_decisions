{
 "cells": [
  {
   "cell_type": "markdown",
   "id": "variable-episode",
   "metadata": {},
   "source": [
    "## Process RC Audio Files"
   ]
  },
  {
   "cell_type": "markdown",
   "id": "german-headset",
   "metadata": {},
   "source": [
    "### Chord"
   ]
  },
  {
   "cell_type": "markdown",
   "id": "brown-origin",
   "metadata": {},
   "source": [
    "### Key: 15 sec chunk and process + 1 more configuration"
   ]
  },
  {
   "cell_type": "markdown",
   "id": "norman-aviation",
   "metadata": {},
   "source": [
    "### Key: Chunk at modulations from Annotation"
   ]
  },
  {
   "cell_type": "markdown",
   "id": "significant-stupid",
   "metadata": {},
   "source": [
    "## Make JAMS for RC annotations\n",
    "- namespace: Roman Numeral\n",
    "- namespace: key\n",
    "- namespace: chord_root: pitch_class + tonic"
   ]
  },
  {
   "cell_type": "code",
   "execution_count": 52,
   "metadata": {},
   "outputs": [],
   "source": [
    "%load_ext autoreload\n",
    "%autoreload 2"
   ]
  },
  {
   "cell_type": "code",
   "execution_count": 57,
   "id": "compressed-tiger",
   "metadata": {},
   "outputs": [
    {
     "output_type": "error",
     "ename": "ModuleNotFoundError",
     "evalue": "No module named 'utility'",
     "traceback": [
      "\u001b[0;31m---------------------------------------------------------------------------\u001b[0m",
      "\u001b[0;31mModuleNotFoundError\u001b[0m                       Traceback (most recent call last)",
      "\u001b[0;32m<ipython-input-57-dc63ab7182d9>\u001b[0m in \u001b[0;36m<module>\u001b[0;34m()\u001b[0m\n\u001b[1;32m      1\u001b[0m \u001b[0;32mimport\u001b[0m \u001b[0mjams\u001b[0m\u001b[0;34m\u001b[0m\u001b[0;34m\u001b[0m\u001b[0m\n\u001b[0;32m----> 2\u001b[0;31m \u001b[0;32mimport\u001b[0m \u001b[0mutility\u001b[0m \u001b[0;32mas\u001b[0m \u001b[0mut\u001b[0m\u001b[0;34m\u001b[0m\u001b[0;34m\u001b[0m\u001b[0m\n\u001b[0m",
      "\u001b[0;31mModuleNotFoundError\u001b[0m: No module named 'utility'"
     ]
    }
   ],
   "source": [
    "import jams\n",
    "import util as ut"
   ]
  },
  {
   "source": [
    "- First: Pair all the tracks and build a database by crawling 1 dir"
   ],
   "cell_type": "markdown",
   "metadata": {}
  },
  {
   "cell_type": "code",
   "execution_count": 43,
   "id": "necessary-banner",
   "metadata": {},
   "outputs": [],
   "source": [
    "class RockCorpus(object):\n",
    "    def __init__(self, data_home='/scratch/qx244/data/rock_corpus_v2-1/'):\n",
    "        self.data_home = data_home\n",
    "        self.titles = self._load_tracks()\n",
    "\n",
    "    def __len__(self):\n",
    "        return len(self.titles)\n",
    "\n",
    "    def _load_tracks(self):\n",
    "        anno_list = glob(os.path.join(self.data_home, 'timed/*.tcl'))\n",
    "        mp3_list = []\n",
    "        titles = []\n",
    "        for anno_p in anno_list:\n",
    "            title = os.path.basename(anno_p).rsplit('_', 1)[0]\n",
    "            audio_path = os.path.join(self.data_home, 'rs_audio_masters_mp3/{}.mp3'.format(title))\n",
    "            # print(audio_path)\n",
    "            assert os.path.exists(audio_path)\n",
    "            if title not in titles:\n",
    "                titles.append(title)\n",
    "        return titles\n",
    "\n",
    "    def audio_path(self, idx):\n",
    "        title = self.titles[idx]\n",
    "        return os.path.join(self.data_home, 'rs_audio_masters_mp3/{}.mp3'.format(title))\n",
    "\n",
    "    def tdc_anno_path(self, idx):\n",
    "        title = self.titles[idx]\n",
    "        out = os.path.join(self.data_home, 'timed/{}_tdc.tcl'.format(title))\n",
    "        assert os.path.exists(out)\n",
    "        return out\n",
    "\n",
    "    def dt_anno_path(self, idx):\n",
    "        title = self.titles[idx]\n",
    "        out = os.path.join(self.data_home, 'timed/{}_dt.tcl'.format(title))\n",
    "        assert os.path.exists(out)\n",
    "        return out"
   ]
  },
  {
   "cell_type": "code",
   "execution_count": 56,
   "metadata": {},
   "outputs": [
    {
     "output_type": "stream",
     "name": "stdout",
     "text": [
      "/home/qx244/sp21\n"
     ]
    }
   ],
   "source": []
  },
  {
   "cell_type": "code",
   "execution_count": 49,
   "metadata": {},
   "outputs": [
    {
     "output_type": "execute_result",
     "data": {
      "text/plain": [
       "'the_boxer'"
      ]
     },
     "metadata": {},
     "execution_count": 49
    }
   ],
   "source": [
    "rc.titles[0]"
   ]
  },
  {
   "cell_type": "code",
   "execution_count": null,
   "metadata": {},
   "outputs": [],
   "source": []
  }
 ],
 "metadata": {
  "kernelspec": {
   "display_name": "Python 3",
   "language": "python",
   "name": "python3"
  }
 },
 "nbformat": 4,
 "nbformat_minor": 5
}