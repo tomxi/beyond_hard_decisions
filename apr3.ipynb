{
 "cells": [
  {
   "cell_type": "markdown",
   "id": "variable-episode",
   "metadata": {},
   "source": [
    "## Process RC Audio Files"
   ]
  },
  {
   "cell_type": "markdown",
   "id": "german-headset",
   "metadata": {},
   "source": [
    "### Chord"
   ]
  },
  {
   "cell_type": "markdown",
   "id": "brown-origin",
   "metadata": {},
   "source": [
    "### Key: 15 sec chunk and process + 1 more configuration"
   ]
  },
  {
   "cell_type": "markdown",
   "id": "norman-aviation",
   "metadata": {},
   "source": [
    "### Key: Chunk at modulations from Annotation"
   ]
  },
  {
   "cell_type": "markdown",
   "id": "significant-stupid",
   "metadata": {},
   "source": [
    "## Make JAMS for RC annotations\n",
    "- namespace: Roman Numeral\n",
    "- namespace: key\n",
    "- namespace: chord_root: pitch_class + tonic"
   ]
  },
  {
   "cell_type": "code",
   "execution_count": 1,
   "metadata": {},
   "outputs": [],
   "source": [
    "%load_ext autoreload\n",
    "%autoreload 2"
   ]
  },
  {
   "cell_type": "code",
   "execution_count": 23,
   "id": "compressed-tiger",
   "metadata": {},
   "outputs": [],
   "source": [
    "import jams\n",
    "import util as ut\n",
    "import librosa"
   ]
  },
  {
   "source": [
    "- First: Pair all the tracks and build a database by crawling 1 dir"
   ],
   "cell_type": "markdown",
   "metadata": {}
  },
  {
   "cell_type": "code",
   "execution_count": 43,
   "id": "necessary-banner",
   "metadata": {},
   "outputs": [],
   "source": [
    "rc = ut.RockCorpus()"
   ]
  },
  {
   "cell_type": "code",
   "execution_count": 6,
   "metadata": {},
   "outputs": [
    {
     "output_type": "execute_result",
     "data": {
      "text/plain": [
       "'/scratch/qx244/data/rock_corpus_v2-1/timed/hotel_california_dt.tcl'"
      ]
     },
     "metadata": {},
     "execution_count": 6
    }
   ],
   "source": [
    "rc.dt_anno_path(3)"
   ]
  },
  {
   "cell_type": "code",
   "execution_count": 24,
   "metadata": {},
   "outputs": [],
   "source": [
    "idx =3\n",
    "\n",
    "with open(rc.dt_anno_path(idx), 'r') as f:\n",
    "    lines = f.readlines()\n",
    "\n",
    "dur = librosa.get_duration(filename=rc.audio_path(idx))"
   ]
  },
  {
   "cell_type": "code",
   "execution_count": 35,
   "metadata": {},
   "outputs": [],
   "source": [
    "jam = jams.JAMS()\n",
    "jam.file_metadata.duration = dur\n",
    "\n",
    "ann_r = jams.Annotation(namespace='chord_roman', duration=dur)\n",
    "\n",
    "for i in range(len(lines) - 1):\n",
    "    start_t, _, roman, rel_root, scale_degree, key, abs_root = lines[i].strip('\\n').split('\\t')\n",
    "    end_t = lines[i+1].split('\\t')[0]\n",
    "    \n",
    "    event_dur =float(end_t) - float(start_t)\n",
    "    tonic = librosa.midi_to_note(int(key), unicode=False, octave=False)\n",
    "\n",
    "    ann_r.append(time=start_t, duration=event_dur,\n",
    "                 value={'tonic': tonic, 'chord': roman})"
   ]
  },
  {
   "cell_type": "code",
   "execution_count": 36,
   "metadata": {},
   "outputs": [
    {
     "output_type": "execute_result",
     "data": {
      "text/plain": [
       "<Annotation(namespace='chord_roman',\n",
       "            time=0,\n",
       "            duration=391.5,\n",
       "            annotation_metadata=<AnnotationMetadata(...)>,\n",
       "            data=<120 observations>,\n",
       "            sandbox=<Sandbox(...)>)>"
      ],
      "text/html": "  <div class=\"panel panel-default\">\n                        <div class=\"panel-heading\" role=\"tab\" id=\"heading-22682208487632-7\">\n                            <button\n                                type=\"button\"\n                                data-toggle=\"collapse\"\n                                data-parent=\"#accordion\"\n                                href=\"#22682208487632-7\"\n                                aria-expanded=\"false\"\n                                class=\"collapsed btn btn-info btn-block\"\n                                aria-controls=\"22682208487632-7\">\n                                chord_roman\n                                <span class=\"badge pull-right\">120</span>\n                            </button>\n                        </div>     <div id=\"22682208487632-7\" class=\"panel-collapse collapse\"\n                             role=\"tabpanel\" aria-labelledby=\"heading-22682208487632-7\">\n                            <div class=\"panel-body\"><div class=\"pull-right\">\n                        <div class=\"panel-group\"><div class=\"panel panel-danger\"><div class=\"panel-heading\">\n                                Annotator&nbsp;\n                                <span class=\"pull-right\"><em></em></span>\n                           </div></div><div class=\"panel panel-danger\"><div class=\"panel-heading\">\n                                Version&nbsp;\n                                <span class=\"pull-right\"><em></em></span>\n                           </div></div><div class=\"panel panel-danger\"><div class=\"panel-heading\">\n                                Corpus&nbsp;\n                                <span class=\"pull-right\"><em></em></span>\n                           </div></div><div class=\"panel panel-default\"><div class=\"panel-heading\" role=\"tab\" id=\"heading-22682208434048-8\">\n                            <button\n                                type=\"button\"\n                                data-toggle=\"collapse\"\n                                data-parent=\"#accordion\"\n                                href=\"#22682208434048-8\"\n                                aria-expanded=\"false\"\n                                class=\"collapsed btn btn-block btn-primary\"\n                                aria-controls=\"22682208434048-8\">\n                                Curator </button></div><div class=\"panel-collapse collapse\"\n                                    id=\"22682208434048-8\"\n                                    role=\"tabpanel\"\n                                    aria-labelledby=\"hading22682208434048-8\">\n                                    <div class=\"panel-body\">\n                                        <div class=\"panel-group\"><div class=\"panel panel-danger\"><div class=\"panel-heading\">\n                                Name&nbsp;\n                                <span class=\"pull-right\"><em></em></span>\n                           </div></div><div class=\"panel panel-danger\"><div class=\"panel-heading\">\n                                Email&nbsp;\n                                <span class=\"pull-right\"><em></em></span>\n                           </div></div></div>\n                                    </div>\n                                </div></div><div class=\"panel panel-danger\"><div class=\"panel-heading\">\n                                Annotation tools&nbsp;\n                                <span class=\"pull-right\"><em></em></span>\n                           </div></div><div class=\"panel panel-danger\"><div class=\"panel-heading\">\n                                Annotation rules&nbsp;\n                                <span class=\"pull-right\"><em></em></span>\n                           </div></div><div class=\"panel panel-danger\"><div class=\"panel-heading\">\n                                Data source&nbsp;\n                                <span class=\"pull-right\"><em></em></span>\n                           </div></div><div class=\"panel panel-danger\"><div class=\"panel-heading\">\n                                Validation&nbsp;\n                                <span class=\"pull-right\"><em></em></span>\n                           </div></div></div>\n                    </div><div class=\"pull-right clearfix\">\n                        \n                    </div><div><table border=\"1\" class=\"dataframe\">\n                    <thead>\n                        <tr style=\"text-align: right;\">\n                            <th></th>\n                            <th>time</th>\n                            <th>duration</th>\n                            <th>value</th>\n                            <th>confidence</th>\n                        </tr>\n                    </thead><tbody><tr>\n                            <th>0</th>\n                            <td>0.313</td>\n                            <td>3.295</td>\n                            <td><table class=\"table\"><tbody> <tr>\n                            <th scope=\"row\">tonic</th>\n                            <td>B</td>\n                        </tr> <tr>\n                            <th scope=\"row\">chord</th>\n                            <td>i</td>\n                        </tr></tbody></table></td>\n                            <td>None</td>\n                        </tr><tr>\n                            <th>1</th>\n                            <td>3.608</td>\n                            <td>3.252</td>\n                            <td><table class=\"table\"><tbody> <tr>\n                            <th scope=\"row\">tonic</th>\n                            <td>B</td>\n                        </tr> <tr>\n                            <th scope=\"row\">chord</th>\n                            <td>V</td>\n                        </tr></tbody></table></td>\n                            <td>None</td>\n                        </tr><tr>\n                            <th>2</th>\n                            <td>6.860</td>\n                            <td>3.227</td>\n                            <td><table class=\"table\"><tbody> <tr>\n                            <th scope=\"row\">tonic</th>\n                            <td>B</td>\n                        </tr> <tr>\n                            <th scope=\"row\">chord</th>\n                            <td>bVII</td>\n                        </tr></tbody></table></td>\n                            <td>None</td>\n                        </tr><tr>\n                            <th>3</th>\n                            <td>10.087</td>\n                            <td>3.229</td>\n                            <td><table class=\"table\"><tbody> <tr>\n                            <th scope=\"row\">tonic</th>\n                            <td>B</td>\n                        </tr> <tr>\n                            <th scope=\"row\">chord</th>\n                            <td>IV</td>\n                        </tr></tbody></table></td>\n                            <td>None</td>\n                        </tr><tr>\n                            <th>4</th>\n                            <td>13.316</td>\n                            <td>3.288</td>\n                            <td><table class=\"table\"><tbody> <tr>\n                            <th scope=\"row\">tonic</th>\n                            <td>B</td>\n                        </tr> <tr>\n                            <th scope=\"row\">chord</th>\n                            <td>bVI</td>\n                        </tr></tbody></table></td>\n                            <td>None</td>\n                        </tr><tr>\n                            <th>5</th>\n                            <td>16.604</td>\n                            <td>3.223</td>\n                            <td><table class=\"table\"><tbody> <tr>\n                            <th scope=\"row\">tonic</th>\n                            <td>B</td>\n                        </tr> <tr>\n                            <th scope=\"row\">chord</th>\n                            <td>bIII</td>\n                        </tr></tbody></table></td>\n                            <td>None</td>\n                        </tr><tr>\n                            <th>6</th>\n                            <td>19.827</td>\n                            <td>3.258</td>\n                            <td><table class=\"table\"><tbody> <tr>\n                            <th scope=\"row\">tonic</th>\n                            <td>B</td>\n                        </tr> <tr>\n                            <th scope=\"row\">chord</th>\n                            <td>iv</td>\n                        </tr></tbody></table></td>\n                            <td>None</td>\n                        </tr><tr>\n                            <th>7</th>\n                            <td>23.085</td>\n                            <td>3.277</td>\n                            <td><table class=\"table\"><tbody> <tr>\n                            <th scope=\"row\">tonic</th>\n                            <td>B</td>\n                        </tr> <tr>\n                            <th scope=\"row\">chord</th>\n                            <td>V</td>\n                        </tr></tbody></table></td>\n                            <td>None</td>\n                        </tr><tr>\n                            <th>8</th>\n                            <td>26.362</td>\n                            <td>3.244</td>\n                            <td><table class=\"table\"><tbody> <tr>\n                            <th scope=\"row\">tonic</th>\n                            <td>B</td>\n                        </tr> <tr>\n                            <th scope=\"row\">chord</th>\n                            <td>i</td>\n                        </tr></tbody></table></td>\n                            <td>None</td>\n                        </tr><tr>\n                            <th>9</th>\n                            <td>29.606</td>\n                            <td>3.261</td>\n                            <td><table class=\"table\"><tbody> <tr>\n                            <th scope=\"row\">tonic</th>\n                            <td>B</td>\n                        </tr> <tr>\n                            <th scope=\"row\">chord</th>\n                            <td>V</td>\n                        </tr></tbody></table></td>\n                            <td>None</td>\n                        </tr><tr>\n                            <th>10</th>\n                            <td>32.867</td>\n                            <td>3.249</td>\n                            <td><table class=\"table\"><tbody> <tr>\n                            <th scope=\"row\">tonic</th>\n                            <td>B</td>\n                        </tr> <tr>\n                            <th scope=\"row\">chord</th>\n                            <td>bVII</td>\n                        </tr></tbody></table></td>\n                            <td>None</td>\n                        </tr><tr>\n                            <th>11</th>\n                            <td>36.116</td>\n                            <td>3.268</td>\n                            <td><table class=\"table\"><tbody> <tr>\n                            <th scope=\"row\">tonic</th>\n                            <td>B</td>\n                        </tr> <tr>\n                            <th scope=\"row\">chord</th>\n                            <td>IV</td>\n                        </tr></tbody></table></td>\n                            <td>None</td>\n                        </tr><tr>\n                            <th>...</th>\n                            <td>...</td>\n                            <td>...</td>\n                            <td>...</td>\n                            <td>...</td>\n                        </tr><tr>\n                            <th>108</th>\n                            <td>351.960</td>\n                            <td>3.254</td>\n                            <td><table class=\"table\"><tbody> <tr>\n                            <th scope=\"row\">tonic</th>\n                            <td>B</td>\n                        </tr> <tr>\n                            <th scope=\"row\">chord</th>\n                            <td>bVI</td>\n                        </tr></tbody></table></td>\n                            <td>None</td>\n                        </tr><tr>\n                            <th>109</th>\n                            <td>355.214</td>\n                            <td>3.250</td>\n                            <td><table class=\"table\"><tbody> <tr>\n                            <th scope=\"row\">tonic</th>\n                            <td>B</td>\n                        </tr> <tr>\n                            <th scope=\"row\">chord</th>\n                            <td>bIII</td>\n                        </tr></tbody></table></td>\n                            <td>None</td>\n                        </tr><tr>\n                            <th>110</th>\n                            <td>358.464</td>\n                            <td>3.240</td>\n                            <td><table class=\"table\"><tbody> <tr>\n                            <th scope=\"row\">tonic</th>\n                            <td>B</td>\n                        </tr> <tr>\n                            <th scope=\"row\">chord</th>\n                            <td>iv</td>\n                        </tr></tbody></table></td>\n                            <td>None</td>\n                        </tr><tr>\n                            <th>111</th>\n                            <td>361.704</td>\n                            <td>3.201</td>\n                            <td><table class=\"table\"><tbody> <tr>\n                            <th scope=\"row\">tonic</th>\n                            <td>B</td>\n                        </tr> <tr>\n                            <th scope=\"row\">chord</th>\n                            <td>V</td>\n                        </tr></tbody></table></td>\n                            <td>None</td>\n                        </tr><tr>\n                            <th>112</th>\n                            <td>364.905</td>\n                            <td>3.321</td>\n                            <td><table class=\"table\"><tbody> <tr>\n                            <th scope=\"row\">tonic</th>\n                            <td>B</td>\n                        </tr> <tr>\n                            <th scope=\"row\">chord</th>\n                            <td>i</td>\n                        </tr></tbody></table></td>\n                            <td>None</td>\n                        </tr><tr>\n                            <th>113</th>\n                            <td>368.226</td>\n                            <td>3.246</td>\n                            <td><table class=\"table\"><tbody> <tr>\n                            <th scope=\"row\">tonic</th>\n                            <td>B</td>\n                        </tr> <tr>\n                            <th scope=\"row\">chord</th>\n                            <td>V</td>\n                        </tr></tbody></table></td>\n                            <td>None</td>\n                        </tr><tr>\n                            <th>114</th>\n                            <td>371.472</td>\n                            <td>3.264</td>\n                            <td><table class=\"table\"><tbody> <tr>\n                            <th scope=\"row\">tonic</th>\n                            <td>B</td>\n                        </tr> <tr>\n                            <th scope=\"row\">chord</th>\n                            <td>bVII</td>\n                        </tr></tbody></table></td>\n                            <td>None</td>\n                        </tr><tr>\n                            <th>115</th>\n                            <td>374.736</td>\n                            <td>3.256</td>\n                            <td><table class=\"table\"><tbody> <tr>\n                            <th scope=\"row\">tonic</th>\n                            <td>B</td>\n                        </tr> <tr>\n                            <th scope=\"row\">chord</th>\n                            <td>IV</td>\n                        </tr></tbody></table></td>\n                            <td>None</td>\n                        </tr><tr>\n                            <th>116</th>\n                            <td>377.992</td>\n                            <td>3.248</td>\n                            <td><table class=\"table\"><tbody> <tr>\n                            <th scope=\"row\">tonic</th>\n                            <td>B</td>\n                        </tr> <tr>\n                            <th scope=\"row\">chord</th>\n                            <td>bVI</td>\n                        </tr></tbody></table></td>\n                            <td>None</td>\n                        </tr><tr>\n                            <th>117</th>\n                            <td>381.240</td>\n                            <td>3.252</td>\n                            <td><table class=\"table\"><tbody> <tr>\n                            <th scope=\"row\">tonic</th>\n                            <td>B</td>\n                        </tr> <tr>\n                            <th scope=\"row\">chord</th>\n                            <td>bIII</td>\n                        </tr></tbody></table></td>\n                            <td>None</td>\n                        </tr><tr>\n                            <th>118</th>\n                            <td>384.492</td>\n                            <td>3.294</td>\n                            <td><table class=\"table\"><tbody> <tr>\n                            <th scope=\"row\">tonic</th>\n                            <td>B</td>\n                        </tr> <tr>\n                            <th scope=\"row\">chord</th>\n                            <td>iv</td>\n                        </tr></tbody></table></td>\n                            <td>None</td>\n                        </tr><tr>\n                            <th>119</th>\n                            <td>387.786</td>\n                            <td>3.268</td>\n                            <td><table class=\"table\"><tbody> <tr>\n                            <th scope=\"row\">tonic</th>\n                            <td>B</td>\n                        </tr> <tr>\n                            <th scope=\"row\">chord</th>\n                            <td>V</td>\n                        </tr></tbody></table></td>\n                            <td>None</td>\n                        </tr></tbody></table></div></div></div></div>"
     },
     "metadata": {},
     "execution_count": 36
    }
   ],
   "source": [
    "ann_r"
   ]
  },
  {
   "cell_type": "code",
   "execution_count": 47,
   "metadata": {},
   "outputs": [
    {
     "output_type": "execute_result",
     "data": {
      "text/plain": [
       "[0, 3, 6, 9]"
      ]
     },
     "metadata": {},
     "execution_count": 47
    }
   ],
   "source": [
    "worker = 0\n",
    "[x for x in range(10) if x % 3 == worker]"
   ]
  },
  {
   "cell_type": "code",
   "execution_count": null,
   "metadata": {},
   "outputs": [],
   "source": []
  }
 ],
 "metadata": {
  "kernelspec": {
   "display_name": "Python 3",
   "language": "python",
   "name": "python3"
  }
 },
 "nbformat": 4,
 "nbformat_minor": 5
}