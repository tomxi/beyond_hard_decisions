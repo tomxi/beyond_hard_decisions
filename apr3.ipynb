{
 "cells": [
  {
   "cell_type": "markdown",
   "id": "variable-episode",
   "metadata": {},
   "source": [
    "## Process RC Audio Files"
   ]
  },
  {
   "cell_type": "markdown",
   "id": "german-headset",
   "metadata": {},
   "source": [
    "### Chord"
   ]
  },
  {
   "cell_type": "markdown",
   "id": "brown-origin",
   "metadata": {},
   "source": [
    "### Key: 15 sec chunk and process + 1 more configuration"
   ]
  },
  {
   "cell_type": "markdown",
   "id": "norman-aviation",
   "metadata": {},
   "source": [
    "### Key: Chunk at modulations from Annotation"
   ]
  },
  {
   "cell_type": "markdown",
   "id": "significant-stupid",
   "metadata": {},
   "source": [
    "## Make JAMS for RC annotations\n",
    "- namespace: Roman Numeral\n",
    "- namespace: key\n",
    "- namespace: chord_root: pitch_class + tonic"
   ]
  },
  {
   "cell_type": "code",
   "execution_count": 1,
   "id": "compressed-tiger",
   "metadata": {},
   "outputs": [],
   "source": [
    "import jams"
   ]
  },
  {
   "cell_type": "code",
   "execution_count": null,
   "id": "necessary-banner",
   "metadata": {},
   "outputs": [],
   "source": []
  }
 ],
 "metadata": {
  "kernelspec": {
   "display_name": "Python 3",
   "language": "python",
   "name": "python3"
  },
  "language_info": {
   "codemirror_mode": {
    "name": "ipython",
    "version": 3
   },
   "file_extension": ".py",
   "mimetype": "text/x-python",
   "name": "python",
   "nbconvert_exporter": "python",
   "pygments_lexer": "ipython3",
   "version": "3.6.12"
  }
 },
 "nbformat": 4,
 "nbformat_minor": 5
}
