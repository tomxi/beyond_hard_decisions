{
 "cells": [
  {
   "cell_type": "code",
   "execution_count": 3,
   "metadata": {},
   "outputs": [
    {
     "output_type": "stream",
     "name": "stdout",
     "text": [
      "The autoreload extension is already loaded. To reload it, use:\n  %reload_ext autoreload\n"
     ]
    }
   ],
   "source": [
    "%load_ext autoreload\n",
    "%autoreload 2"
   ]
  },
  {
   "cell_type": "code",
   "execution_count": 15,
   "id": "compressed-tiger",
   "metadata": {},
   "outputs": [],
   "source": [
    "import jams\n",
    "import util as ut\n",
    "import librosa\n",
    "import numpy as np"
   ]
  },
  {
   "cell_type": "code",
   "execution_count": 5,
   "id": "necessary-banner",
   "metadata": {},
   "outputs": [],
   "source": [
    "rc = ut.RockCorpus()"
   ]
  },
  {
   "cell_type": "code",
   "execution_count": 6,
   "metadata": {},
   "outputs": [
    {
     "output_type": "execute_result",
     "data": {
      "text/plain": [
       "'/scratch/qx244/data/rock_corpus_v2-1/timed/hotel_california_dt.tcl'"
      ]
     },
     "metadata": {},
     "execution_count": 6
    }
   ],
   "source": [
    "rc.dt_anno_path(3)"
   ]
  },
  {
   "cell_type": "code",
   "execution_count": 7,
   "metadata": {},
   "outputs": [],
   "source": [
    "\n"
   ]
  },
  {
   "cell_type": "code",
   "execution_count": 48,
   "metadata": {},
   "outputs": [],
   "source": [
    "def anno_dt_root_dist(idx):\n",
    "    rc = ut.RockCorpus()\n",
    "    with open(rc.dt_anno_path(idx), 'r') as f:\n",
    "        lines = f.readlines()\n",
    "        \n",
    "    dur = librosa.get_duration(filename=rc.audio_path(idx))\n",
    "\n",
    "    track_rel_root_dist = np.zeros(13)\n",
    "    for i in range(len(lines) - 1):\n",
    "        start_t, _, roman, rel_root, scale_degree, key, abs_root = lines[i].strip('\\n').split('\\t')\n",
    "        end_t = lines[i+1].split('\\t')[0]\n",
    "        \n",
    "        event_dur =float(end_t) - float(start_t)\n",
    "\n",
    "        dur_weight = event_dur / dur\n",
    "\n",
    "        track_rel_root_dist[int(rel_root)] += dur_weight\n",
    "    return track_rel_root_dist\n",
    "\n",
    "def anno_tdc_root_dist(idx):\n",
    "    rc = ut.RockCorpus()\n",
    "    with open(rc.tdc_anno_path(idx), 'r') as f:\n",
    "        lines = f.readlines()\n",
    "        \n",
    "    dur = librosa.get_duration(filename=rc.audio_path(idx))\n",
    "\n",
    "    track_rel_root_dist = np.zeros(13)\n",
    "    for i in range(len(lines) - 1):\n",
    "        start_t, _, roman, rel_root, scale_degree, key, abs_root = lines[i].strip('\\n').split('\\t')\n",
    "        end_t = lines[i+1].split('\\t')[0]\n",
    "        \n",
    "        event_dur =float(end_t) - float(start_t)\n",
    "\n",
    "        dur_weight = event_dur / dur\n",
    "\n",
    "        track_rel_root_dist[int(rel_root)] += dur_weight\n",
    "    return track_rel_root_dist / track_rel_root_dist.sum()"
   ]
  },
  {
   "cell_type": "code",
   "execution_count": 49,
   "metadata": {},
   "outputs": [
    {
     "output_type": "stream",
     "name": "stderr",
     "text": [
      "100%|██████████| 200/200 [00:43<00:00,  4.58it/s]\n"
     ]
    }
   ],
   "source": [
    "from tqdm import tqdm\n",
    "corpus_root_dist = []\n",
    "for i in tqdm(range(200)):\n",
    "    corpus_root_dist.append((anno_tdc_root_dist(i) + anno_dt_root_dist(i))/2)"
   ]
  },
  {
   "cell_type": "code",
   "execution_count": null,
   "metadata": {},
   "outputs": [],
   "source": [
    "def anno_to_jams(anno_path, jams_path):\n"
   ]
  },
  {
   "cell_type": "code",
   "execution_count": 50,
   "metadata": {},
   "outputs": [
    {
     "output_type": "execute_result",
     "data": {
      "text/plain": [
       "array([0.48293582, 0.00181025, 0.03913774, 0.0109344 , 0.01672394,\n",
       "       0.18391864, 0.00111357, 0.1525514 , 0.01947916, 0.05226352,\n",
       "       0.03741738, 0.00171417, 0.        ])"
      ]
     },
     "metadata": {},
     "execution_count": 50
    }
   ],
   "source": [
    "anno_root_dist = np.sum(corpus_root_dist, axis=0)\n",
    "anno_root_dist /= anno_root_dist.sum()\n",
    "anno_root_dist"
   ]
  },
  {
   "cell_type": "code",
   "execution_count": null,
   "metadata": {},
   "outputs": [],
   "source": [
    "corpus_root_dist"
   ]
  },
  {
   "cell_type": "code",
   "execution_count": 20,
   "metadata": {},
   "outputs": [
    {
     "output_type": "execute_result",
     "data": {
      "text/plain": [
       "array([0.14210436, 0.        , 0.        , 0.12490115, 0.        ,\n",
       "       0.25019642, 0.        , 0.24934419, 0.12523129, 0.        ,\n",
       "       0.10822258, 0.        , 0.        ])"
      ]
     },
     "metadata": {},
     "execution_count": 20
    }
   ],
   "source": [
    "corpus_root_dist = np.array([0.48293582, 0.00181025, 0.03913774, 0.0109344 , 0.01672394,\n",
    "       0.18391864, 0.00111357, 0.1525514 , 0.01947916, 0.05226352,\n",
    "       0.03741738, 0.00171417, 0.        ])"
   ]
  },
  {
   "cell_type": "code",
   "execution_count": 12,
   "metadata": {},
   "outputs": [
    {
     "output_type": "execute_result",
     "data": {
      "text/plain": [
       "<Annotation(namespace='pitch_class',\n",
       "            time=0,\n",
       "            duration=391.5,\n",
       "            annotation_metadata=<AnnotationMetadata(...)>,\n",
       "            data=<120 observations>,\n",
       "            sandbox=<Sandbox(...)>)>"
      ],
      "text/html": "  <div class=\"panel panel-default\">\n                        <div class=\"panel-heading\" role=\"tab\" id=\"heading-23346968788888-3\">\n                            <button\n                                type=\"button\"\n                                data-toggle=\"collapse\"\n                                data-parent=\"#accordion\"\n                                href=\"#23346968788888-3\"\n                                aria-expanded=\"false\"\n                                class=\"collapsed btn btn-info btn-block\"\n                                aria-controls=\"23346968788888-3\">\n                                pitch_class\n                                <span class=\"badge pull-right\">120</span>\n                            </button>\n                        </div>     <div id=\"23346968788888-3\" class=\"panel-collapse collapse\"\n                             role=\"tabpanel\" aria-labelledby=\"heading-23346968788888-3\">\n                            <div class=\"panel-body\"><div class=\"pull-right\">\n                        <div class=\"panel-group\"><div class=\"panel panel-danger\"><div class=\"panel-heading\">\n                                Annotator&nbsp;\n                                <span class=\"pull-right\"><em></em></span>\n                           </div></div><div class=\"panel panel-danger\"><div class=\"panel-heading\">\n                                Version&nbsp;\n                                <span class=\"pull-right\"><em></em></span>\n                           </div></div><div class=\"panel panel-danger\"><div class=\"panel-heading\">\n                                Corpus&nbsp;\n                                <span class=\"pull-right\"><em></em></span>\n                           </div></div><div class=\"panel panel-default\"><div class=\"panel-heading\" role=\"tab\" id=\"heading-23346968760784-4\">\n                            <button\n                                type=\"button\"\n                                data-toggle=\"collapse\"\n                                data-parent=\"#accordion\"\n                                href=\"#23346968760784-4\"\n                                aria-expanded=\"false\"\n                                class=\"collapsed btn btn-block btn-primary\"\n                                aria-controls=\"23346968760784-4\">\n                                Curator </button></div><div class=\"panel-collapse collapse\"\n                                    id=\"23346968760784-4\"\n                                    role=\"tabpanel\"\n                                    aria-labelledby=\"hading23346968760784-4\">\n                                    <div class=\"panel-body\">\n                                        <div class=\"panel-group\"><div class=\"panel panel-danger\"><div class=\"panel-heading\">\n                                Name&nbsp;\n                                <span class=\"pull-right\"><em></em></span>\n                           </div></div><div class=\"panel panel-danger\"><div class=\"panel-heading\">\n                                Email&nbsp;\n                                <span class=\"pull-right\"><em></em></span>\n                           </div></div></div>\n                                    </div>\n                                </div></div><div class=\"panel panel-danger\"><div class=\"panel-heading\">\n                                Annotation tools&nbsp;\n                                <span class=\"pull-right\"><em></em></span>\n                           </div></div><div class=\"panel panel-danger\"><div class=\"panel-heading\">\n                                Annotation rules&nbsp;\n                                <span class=\"pull-right\"><em></em></span>\n                           </div></div><div class=\"panel panel-danger\"><div class=\"panel-heading\">\n                                Data source&nbsp;\n                                <span class=\"pull-right\"><em></em></span>\n                           </div></div><div class=\"panel panel-danger\"><div class=\"panel-heading\">\n                                Validation&nbsp;\n                                <span class=\"pull-right\"><em></em></span>\n                           </div></div></div>\n                    </div><div class=\"pull-right clearfix\">\n                        \n                    </div><div><table border=\"1\" class=\"dataframe\">\n                    <thead>\n                        <tr style=\"text-align: right;\">\n                            <th></th>\n                            <th>time</th>\n                            <th>duration</th>\n                            <th>value</th>\n                            <th>confidence</th>\n                        </tr>\n                    </thead><tbody><tr>\n                            <th>0</th>\n                            <td>0.313</td>\n                            <td>3.295</td>\n                            <td><table class=\"table\"><tbody> <tr>\n                            <th scope=\"row\">tonic</th>\n                            <td>B</td>\n                        </tr> <tr>\n                            <th scope=\"row\">pitch</th>\n                            <td>0</td>\n                        </tr></tbody></table></td>\n                            <td>None</td>\n                        </tr><tr>\n                            <th>1</th>\n                            <td>3.608</td>\n                            <td>3.252</td>\n                            <td><table class=\"table\"><tbody> <tr>\n                            <th scope=\"row\">tonic</th>\n                            <td>B</td>\n                        </tr> <tr>\n                            <th scope=\"row\">pitch</th>\n                            <td>7</td>\n                        </tr></tbody></table></td>\n                            <td>None</td>\n                        </tr><tr>\n                            <th>2</th>\n                            <td>6.860</td>\n                            <td>3.227</td>\n                            <td><table class=\"table\"><tbody> <tr>\n                            <th scope=\"row\">tonic</th>\n                            <td>B</td>\n                        </tr> <tr>\n                            <th scope=\"row\">pitch</th>\n                            <td>10</td>\n                        </tr></tbody></table></td>\n                            <td>None</td>\n                        </tr><tr>\n                            <th>3</th>\n                            <td>10.087</td>\n                            <td>3.229</td>\n                            <td><table class=\"table\"><tbody> <tr>\n                            <th scope=\"row\">tonic</th>\n                            <td>B</td>\n                        </tr> <tr>\n                            <th scope=\"row\">pitch</th>\n                            <td>5</td>\n                        </tr></tbody></table></td>\n                            <td>None</td>\n                        </tr><tr>\n                            <th>4</th>\n                            <td>13.316</td>\n                            <td>3.288</td>\n                            <td><table class=\"table\"><tbody> <tr>\n                            <th scope=\"row\">tonic</th>\n                            <td>B</td>\n                        </tr> <tr>\n                            <th scope=\"row\">pitch</th>\n                            <td>8</td>\n                        </tr></tbody></table></td>\n                            <td>None</td>\n                        </tr><tr>\n                            <th>5</th>\n                            <td>16.604</td>\n                            <td>3.223</td>\n                            <td><table class=\"table\"><tbody> <tr>\n                            <th scope=\"row\">tonic</th>\n                            <td>B</td>\n                        </tr> <tr>\n                            <th scope=\"row\">pitch</th>\n                            <td>3</td>\n                        </tr></tbody></table></td>\n                            <td>None</td>\n                        </tr><tr>\n                            <th>6</th>\n                            <td>19.827</td>\n                            <td>3.258</td>\n                            <td><table class=\"table\"><tbody> <tr>\n                            <th scope=\"row\">tonic</th>\n                            <td>B</td>\n                        </tr> <tr>\n                            <th scope=\"row\">pitch</th>\n                            <td>5</td>\n                        </tr></tbody></table></td>\n                            <td>None</td>\n                        </tr><tr>\n                            <th>7</th>\n                            <td>23.085</td>\n                            <td>3.277</td>\n                            <td><table class=\"table\"><tbody> <tr>\n                            <th scope=\"row\">tonic</th>\n                            <td>B</td>\n                        </tr> <tr>\n                            <th scope=\"row\">pitch</th>\n                            <td>7</td>\n                        </tr></tbody></table></td>\n                            <td>None</td>\n                        </tr><tr>\n                            <th>8</th>\n                            <td>26.362</td>\n                            <td>3.244</td>\n                            <td><table class=\"table\"><tbody> <tr>\n                            <th scope=\"row\">tonic</th>\n                            <td>B</td>\n                        </tr> <tr>\n                            <th scope=\"row\">pitch</th>\n                            <td>0</td>\n                        </tr></tbody></table></td>\n                            <td>None</td>\n                        </tr><tr>\n                            <th>9</th>\n                            <td>29.606</td>\n                            <td>3.261</td>\n                            <td><table class=\"table\"><tbody> <tr>\n                            <th scope=\"row\">tonic</th>\n                            <td>B</td>\n                        </tr> <tr>\n                            <th scope=\"row\">pitch</th>\n                            <td>7</td>\n                        </tr></tbody></table></td>\n                            <td>None</td>\n                        </tr><tr>\n                            <th>10</th>\n                            <td>32.867</td>\n                            <td>3.249</td>\n                            <td><table class=\"table\"><tbody> <tr>\n                            <th scope=\"row\">tonic</th>\n                            <td>B</td>\n                        </tr> <tr>\n                            <th scope=\"row\">pitch</th>\n                            <td>10</td>\n                        </tr></tbody></table></td>\n                            <td>None</td>\n                        </tr><tr>\n                            <th>11</th>\n                            <td>36.116</td>\n                            <td>3.268</td>\n                            <td><table class=\"table\"><tbody> <tr>\n                            <th scope=\"row\">tonic</th>\n                            <td>B</td>\n                        </tr> <tr>\n                            <th scope=\"row\">pitch</th>\n                            <td>5</td>\n                        </tr></tbody></table></td>\n                            <td>None</td>\n                        </tr><tr>\n                            <th>...</th>\n                            <td>...</td>\n                            <td>...</td>\n                            <td>...</td>\n                            <td>...</td>\n                        </tr><tr>\n                            <th>108</th>\n                            <td>351.960</td>\n                            <td>3.254</td>\n                            <td><table class=\"table\"><tbody> <tr>\n                            <th scope=\"row\">tonic</th>\n                            <td>B</td>\n                        </tr> <tr>\n                            <th scope=\"row\">pitch</th>\n                            <td>8</td>\n                        </tr></tbody></table></td>\n                            <td>None</td>\n                        </tr><tr>\n                            <th>109</th>\n                            <td>355.214</td>\n                            <td>3.250</td>\n                            <td><table class=\"table\"><tbody> <tr>\n                            <th scope=\"row\">tonic</th>\n                            <td>B</td>\n                        </tr> <tr>\n                            <th scope=\"row\">pitch</th>\n                            <td>3</td>\n                        </tr></tbody></table></td>\n                            <td>None</td>\n                        </tr><tr>\n                            <th>110</th>\n                            <td>358.464</td>\n                            <td>3.240</td>\n                            <td><table class=\"table\"><tbody> <tr>\n                            <th scope=\"row\">tonic</th>\n                            <td>B</td>\n                        </tr> <tr>\n                            <th scope=\"row\">pitch</th>\n                            <td>5</td>\n                        </tr></tbody></table></td>\n                            <td>None</td>\n                        </tr><tr>\n                            <th>111</th>\n                            <td>361.704</td>\n                            <td>3.201</td>\n                            <td><table class=\"table\"><tbody> <tr>\n                            <th scope=\"row\">tonic</th>\n                            <td>B</td>\n                        </tr> <tr>\n                            <th scope=\"row\">pitch</th>\n                            <td>7</td>\n                        </tr></tbody></table></td>\n                            <td>None</td>\n                        </tr><tr>\n                            <th>112</th>\n                            <td>364.905</td>\n                            <td>3.321</td>\n                            <td><table class=\"table\"><tbody> <tr>\n                            <th scope=\"row\">tonic</th>\n                            <td>B</td>\n                        </tr> <tr>\n                            <th scope=\"row\">pitch</th>\n                            <td>0</td>\n                        </tr></tbody></table></td>\n                            <td>None</td>\n                        </tr><tr>\n                            <th>113</th>\n                            <td>368.226</td>\n                            <td>3.246</td>\n                            <td><table class=\"table\"><tbody> <tr>\n                            <th scope=\"row\">tonic</th>\n                            <td>B</td>\n                        </tr> <tr>\n                            <th scope=\"row\">pitch</th>\n                            <td>7</td>\n                        </tr></tbody></table></td>\n                            <td>None</td>\n                        </tr><tr>\n                            <th>114</th>\n                            <td>371.472</td>\n                            <td>3.264</td>\n                            <td><table class=\"table\"><tbody> <tr>\n                            <th scope=\"row\">tonic</th>\n                            <td>B</td>\n                        </tr> <tr>\n                            <th scope=\"row\">pitch</th>\n                            <td>10</td>\n                        </tr></tbody></table></td>\n                            <td>None</td>\n                        </tr><tr>\n                            <th>115</th>\n                            <td>374.736</td>\n                            <td>3.256</td>\n                            <td><table class=\"table\"><tbody> <tr>\n                            <th scope=\"row\">tonic</th>\n                            <td>B</td>\n                        </tr> <tr>\n                            <th scope=\"row\">pitch</th>\n                            <td>5</td>\n                        </tr></tbody></table></td>\n                            <td>None</td>\n                        </tr><tr>\n                            <th>116</th>\n                            <td>377.992</td>\n                            <td>3.248</td>\n                            <td><table class=\"table\"><tbody> <tr>\n                            <th scope=\"row\">tonic</th>\n                            <td>B</td>\n                        </tr> <tr>\n                            <th scope=\"row\">pitch</th>\n                            <td>8</td>\n                        </tr></tbody></table></td>\n                            <td>None</td>\n                        </tr><tr>\n                            <th>117</th>\n                            <td>381.240</td>\n                            <td>3.252</td>\n                            <td><table class=\"table\"><tbody> <tr>\n                            <th scope=\"row\">tonic</th>\n                            <td>B</td>\n                        </tr> <tr>\n                            <th scope=\"row\">pitch</th>\n                            <td>3</td>\n                        </tr></tbody></table></td>\n                            <td>None</td>\n                        </tr><tr>\n                            <th>118</th>\n                            <td>384.492</td>\n                            <td>3.294</td>\n                            <td><table class=\"table\"><tbody> <tr>\n                            <th scope=\"row\">tonic</th>\n                            <td>B</td>\n                        </tr> <tr>\n                            <th scope=\"row\">pitch</th>\n                            <td>5</td>\n                        </tr></tbody></table></td>\n                            <td>None</td>\n                        </tr><tr>\n                            <th>119</th>\n                            <td>387.786</td>\n                            <td>3.268</td>\n                            <td><table class=\"table\"><tbody> <tr>\n                            <th scope=\"row\">tonic</th>\n                            <td>B</td>\n                        </tr> <tr>\n                            <th scope=\"row\">pitch</th>\n                            <td>7</td>\n                        </tr></tbody></table></td>\n                            <td>None</td>\n                        </tr></tbody></table></div></div></div></div>"
     },
     "metadata": {},
     "execution_count": 12
    }
   ],
   "source": [
    "ann_rel_root"
   ]
  },
  {
   "cell_type": "code",
   "execution_count": 47,
   "metadata": {},
   "outputs": [
    {
     "output_type": "execute_result",
     "data": {
      "text/plain": [
       "[0, 3, 6, 9]"
      ]
     },
     "metadata": {},
     "execution_count": 47
    }
   ],
   "source": [
    "worker = 0\n",
    "[x for x in range(10) if x % 3 == worker]"
   ]
  },
  {
   "cell_type": "code",
   "execution_count": null,
   "metadata": {},
   "outputs": [],
   "source": []
  }
 ],
 "metadata": {
  "kernelspec": {
   "display_name": "Python 3",
   "language": "python",
   "name": "python3"
  }
 },
 "nbformat": 4,
 "nbformat_minor": 5
}